{
 "cells": [
  {
   "cell_type": "markdown",
   "metadata": {},
   "source": [
    "# Data Visualisation - Milestone 1 Notebook"
   ]
  },
  {
   "cell_type": "code",
   "execution_count": 40,
   "metadata": {},
   "outputs": [],
   "source": [
    "import os\n",
    "import pandas as pd\n",
    "import matplotlib.pyplot as plt"
   ]
  },
  {
   "cell_type": "markdown",
   "metadata": {},
   "source": [
    "## 1. Dataset"
   ]
  },
  {
   "cell_type": "code",
   "execution_count": null,
   "metadata": {},
   "outputs": [],
   "source": []
  },
  {
   "cell_type": "markdown",
   "metadata": {},
   "source": [
    "## 2. Problematic"
   ]
  },
  {
   "cell_type": "code",
   "execution_count": null,
   "metadata": {},
   "outputs": [],
   "source": []
  },
  {
   "cell_type": "markdown",
   "metadata": {},
   "source": [
    "## 3. Exploratory Data Analysis\n",
    "\n",
    "Pre-processing of the data set you chose:\n",
    "\n",
    "- Show some basic statistics and get insights about the data\n"
   ]
  },
  {
   "cell_type": "markdown",
   "metadata": {},
   "source": [
    "### 3.1 Covid-19 Current Situation"
   ]
  },
  {
   "cell_type": "code",
   "execution_count": 4,
   "metadata": {},
   "outputs": [],
   "source": [
    "PATH_COVID_SITUATION = os.path.expanduser('~/Documents/GitHub/com-480-project-pouletpanier/data/COVID-19-geographic-disbtribution-worldwide.xlsx')"
   ]
  },
  {
   "cell_type": "code",
   "execution_count": 7,
   "metadata": {},
   "outputs": [],
   "source": [
    "covid_situation = pd.read_excel(PATH_COVID_SITUATION)"
   ]
  },
  {
   "cell_type": "code",
   "execution_count": 19,
   "metadata": {},
   "outputs": [
    {
     "data": {
      "text/html": [
       "<div>\n",
       "<style scoped>\n",
       "    .dataframe tbody tr th:only-of-type {\n",
       "        vertical-align: middle;\n",
       "    }\n",
       "\n",
       "    .dataframe tbody tr th {\n",
       "        vertical-align: top;\n",
       "    }\n",
       "\n",
       "    .dataframe thead th {\n",
       "        text-align: right;\n",
       "    }\n",
       "</style>\n",
       "<table border=\"1\" class=\"dataframe\">\n",
       "  <thead>\n",
       "    <tr style=\"text-align: right;\">\n",
       "      <th></th>\n",
       "      <th>dateRep</th>\n",
       "      <th>day</th>\n",
       "      <th>month</th>\n",
       "      <th>year</th>\n",
       "      <th>cases</th>\n",
       "      <th>deaths</th>\n",
       "      <th>countriesAndTerritories</th>\n",
       "      <th>geoId</th>\n",
       "      <th>countryterritoryCode</th>\n",
       "      <th>popData2018</th>\n",
       "    </tr>\n",
       "  </thead>\n",
       "  <tbody>\n",
       "    <tr>\n",
       "      <th>0</th>\n",
       "      <td>2020-03-31</td>\n",
       "      <td>31</td>\n",
       "      <td>3</td>\n",
       "      <td>2020</td>\n",
       "      <td>27</td>\n",
       "      <td>0</td>\n",
       "      <td>Afghanistan</td>\n",
       "      <td>AF</td>\n",
       "      <td>AFG</td>\n",
       "      <td>37172386.0</td>\n",
       "    </tr>\n",
       "    <tr>\n",
       "      <th>1</th>\n",
       "      <td>2020-03-30</td>\n",
       "      <td>30</td>\n",
       "      <td>3</td>\n",
       "      <td>2020</td>\n",
       "      <td>8</td>\n",
       "      <td>1</td>\n",
       "      <td>Afghanistan</td>\n",
       "      <td>AF</td>\n",
       "      <td>AFG</td>\n",
       "      <td>37172386.0</td>\n",
       "    </tr>\n",
       "    <tr>\n",
       "      <th>2</th>\n",
       "      <td>2020-03-29</td>\n",
       "      <td>29</td>\n",
       "      <td>3</td>\n",
       "      <td>2020</td>\n",
       "      <td>15</td>\n",
       "      <td>1</td>\n",
       "      <td>Afghanistan</td>\n",
       "      <td>AF</td>\n",
       "      <td>AFG</td>\n",
       "      <td>37172386.0</td>\n",
       "    </tr>\n",
       "    <tr>\n",
       "      <th>3</th>\n",
       "      <td>2020-03-28</td>\n",
       "      <td>28</td>\n",
       "      <td>3</td>\n",
       "      <td>2020</td>\n",
       "      <td>16</td>\n",
       "      <td>1</td>\n",
       "      <td>Afghanistan</td>\n",
       "      <td>AF</td>\n",
       "      <td>AFG</td>\n",
       "      <td>37172386.0</td>\n",
       "    </tr>\n",
       "    <tr>\n",
       "      <th>4</th>\n",
       "      <td>2020-03-27</td>\n",
       "      <td>27</td>\n",
       "      <td>3</td>\n",
       "      <td>2020</td>\n",
       "      <td>0</td>\n",
       "      <td>0</td>\n",
       "      <td>Afghanistan</td>\n",
       "      <td>AF</td>\n",
       "      <td>AFG</td>\n",
       "      <td>37172386.0</td>\n",
       "    </tr>\n",
       "  </tbody>\n",
       "</table>\n",
       "</div>"
      ],
      "text/plain": [
       "     dateRep  day  month  year  cases  deaths countriesAndTerritories geoId  \\\n",
       "0 2020-03-31   31      3  2020     27       0             Afghanistan    AF   \n",
       "1 2020-03-30   30      3  2020      8       1             Afghanistan    AF   \n",
       "2 2020-03-29   29      3  2020     15       1             Afghanistan    AF   \n",
       "3 2020-03-28   28      3  2020     16       1             Afghanistan    AF   \n",
       "4 2020-03-27   27      3  2020      0       0             Afghanistan    AF   \n",
       "\n",
       "  countryterritoryCode  popData2018  \n",
       "0                  AFG   37172386.0  \n",
       "1                  AFG   37172386.0  \n",
       "2                  AFG   37172386.0  \n",
       "3                  AFG   37172386.0  \n",
       "4                  AFG   37172386.0  "
      ]
     },
     "execution_count": 19,
     "metadata": {},
     "output_type": "execute_result"
    }
   ],
   "source": [
    "covid_situation.head()"
   ]
  },
  {
   "cell_type": "markdown",
   "metadata": {},
   "source": [
    "#### 3.1.1 Total Number of cases and deaths worldwide"
   ]
  },
  {
   "cell_type": "code",
   "execution_count": 9,
   "metadata": {},
   "outputs": [],
   "source": [
    "number_cases = covid_situation['cases'].sum()"
   ]
  },
  {
   "cell_type": "code",
   "execution_count": 11,
   "metadata": {},
   "outputs": [],
   "source": [
    "number_deaths = covid_situation['deaths'].sum()"
   ]
  },
  {
   "cell_type": "code",
   "execution_count": 15,
   "metadata": {},
   "outputs": [],
   "source": [
    "last_date = covid_situation['dateRep'][0]"
   ]
  },
  {
   "cell_type": "code",
   "execution_count": 18,
   "metadata": {},
   "outputs": [
    {
     "name": "stdout",
     "output_type": "stream",
     "text": [
      "The total number of cases due to the COVID-19 worldwide until 2020-03-31 is 777798 and the total number of deaths is 37272\n"
     ]
    }
   ],
   "source": [
    "print(f'The total number of cases due to the COVID-19 worldwide until {last_date.date()} is {number_cases} and the total number of deaths is {number_deaths}')"
   ]
  },
  {
   "cell_type": "markdown",
   "metadata": {},
   "source": [
    "#### 3.1.2 Total Number of cases and deaths per Country \n",
    "\n",
    "- we can add also the statistics for continents and also the pourcentage of the population that is infected by the COVID-19"
   ]
  },
  {
   "cell_type": "code",
   "execution_count": 32,
   "metadata": {},
   "outputs": [],
   "source": [
    "cases_per_country = covid_situation.groupby('countriesAndTerritories')['cases'].sum().sort_values(ascending=False)"
   ]
  },
  {
   "cell_type": "code",
   "execution_count": 33,
   "metadata": {},
   "outputs": [
    {
     "data": {
      "text/plain": [
       "countriesAndTerritories\n",
       "United_States_of_America    164620\n",
       "Italy                       101739\n",
       "Spain                        85195\n",
       "China                        82241\n",
       "Germany                      61913\n",
       "France                       44550\n",
       "Iran                         41495\n",
       "United_Kingdom               22141\n",
       "Switzerland                  15412\n",
       "Belgium                      11899\n",
       "Name: cases, dtype: int64"
      ]
     },
     "execution_count": 33,
     "metadata": {},
     "output_type": "execute_result"
    }
   ],
   "source": [
    "cases_per_country.head(10)"
   ]
  },
  {
   "cell_type": "code",
   "execution_count": 34,
   "metadata": {},
   "outputs": [],
   "source": [
    "deaths_per_country = covid_situation.groupby('countriesAndTerritories')['deaths'].sum().sort_values(ascending=False)"
   ]
  },
  {
   "cell_type": "code",
   "execution_count": 35,
   "metadata": {},
   "outputs": [
    {
     "data": {
      "text/plain": [
       "countriesAndTerritories\n",
       "Italy                       11591\n",
       "Spain                        7340\n",
       "China                        3309\n",
       "United_States_of_America     3170\n",
       "France                       3024\n",
       "Iran                         2757\n",
       "United_Kingdom               1408\n",
       "Netherlands                   864\n",
       "Germany                       583\n",
       "Belgium                       513\n",
       "Name: deaths, dtype: int64"
      ]
     },
     "execution_count": 35,
     "metadata": {},
     "output_type": "execute_result"
    }
   ],
   "source": [
    "deaths_per_country.head(10)"
   ]
  },
  {
   "cell_type": "markdown",
   "metadata": {},
   "source": [
    "#### 3.1.3 Get some plots\n",
    "\n",
    "- Total number of new cases/deaths by time (daily)\n",
    "- Total number of cases/deaths by time (daily)"
   ]
  },
  {
   "cell_type": "code",
   "execution_count": 37,
   "metadata": {},
   "outputs": [],
   "source": [
    "covid_situation_per_day = covid_situation.groupby('dateRep')['cases','deaths'].sum()"
   ]
  },
  {
   "cell_type": "code",
   "execution_count": 49,
   "metadata": {},
   "outputs": [
    {
     "data": {
      "image/png": "[encoded data removed]",
      "text/plain": [
       "<Figure size 1440x864 with 2 Axes>"
      ]
     },
     "metadata": {
      "needs_background": "light"
     },
     "output_type": "display_data"
    }
   ],
   "source": [
    "fig = plt.figure(figsize=(20,12))\n",
    "\n",
    "ax = fig.add_subplot(111)\n",
    "ax2 = ax.twinx()\n",
    "\n",
    "width = 0.4\n",
    "\n",
    "covid_situation_per_day['cases'].plot(kind='bar', color='red', ax=ax, width=width, position=1)\n",
    "covid_situation_per_day['deaths'].plot(kind='bar', color='blue', ax=ax2, width=width, position=0)\n",
    "\n",
    "ax.set_ylabel('New cases per day')\n",
    "ax2.set_ylabel('New deaths per day')\n",
    "\n",
    "plt.show()"
   ]
  },
  {
   "cell_type": "code",
   "execution_count": 52,
   "metadata": {},
   "outputs": [],
   "source": [
    "cumulative_covid_situation_per_day = covid_situation_per_day.cumsum()"
   ]
  },
  {
   "cell_type": "code",
   "execution_count": 53,
   "metadata": {},
   "outputs": [
    {
     "data": {
      "image/png": "[encoded data removed]",
      "text/plain": [
       "<Figure size 1440x864 with 2 Axes>"
      ]
     },
     "metadata": {
      "needs_background": "light"
     },
     "output_type": "display_data"
    }
   ],
   "source": [
    "fig = plt.figure(figsize=(20,12))\n",
    "\n",
    "ax = fig.add_subplot(111)\n",
    "ax2 = ax.twinx()\n",
    "\n",
    "width = 0.4\n",
    "\n",
    "cumulative_covid_situation_per_day['cases'].plot(kind='bar', color='red', ax=ax, width=width, position=1)\n",
    "cumulative_covid_situation_per_day['deaths'].plot(kind='bar', color='blue', ax=ax2, width=width, position=0)\n",
    "\n",
    "ax.set_ylabel('New cases per day')\n",
    "ax2.set_ylabel('New deaths per day')\n",
    "\n",
    "plt.show()"
   ]
  },
  {
   "cell_type": "markdown",
   "metadata": {},
   "source": [
    "### 3.2 Governements decisions"
   ]
  },
  {
   "cell_type": "code",
   "execution_count": 54,
   "metadata": {},
   "outputs": [],
   "source": [
    "PATH_GOV_DECISIONS = os.path.expanduser('~/Documents/GitHub/com-480-project-pouletpanier/data/COVID 19 Containment measures data.csv')"
   ]
  },
  {
   "cell_type": "code",
   "execution_count": 55,
   "metadata": {},
   "outputs": [],
   "source": [
    "gov_decisions = pd.read_csv(PATH_GOV_DECISIONS)"
   ]
  },
  {
   "cell_type": "code",
   "execution_count": 56,
   "metadata": {},
   "outputs": [
    {
     "data": {
      "text/html": [
       "<div>\n",
       "<style scoped>\n",
       "    .dataframe tbody tr th:only-of-type {\n",
       "        vertical-align: middle;\n",
       "    }\n",
       "\n",
       "    .dataframe tbody tr th {\n",
       "        vertical-align: top;\n",
       "    }\n",
       "\n",
       "    .dataframe thead th {\n",
       "        text-align: right;\n",
       "    }\n",
       "</style>\n",
       "<table border=\"1\" class=\"dataframe\">\n",
       "  <thead>\n",
       "    <tr style=\"text-align: right;\">\n",
       "      <th></th>\n",
       "      <th>ID</th>\n",
       "      <th>Applies To</th>\n",
       "      <th>Country</th>\n",
       "      <th>Date Start</th>\n",
       "      <th>Date end intended</th>\n",
       "      <th>Description of measure implemented</th>\n",
       "      <th>Exceptions</th>\n",
       "      <th>Implementing City</th>\n",
       "      <th>Implementing State/Province</th>\n",
       "      <th>Keywords</th>\n",
       "      <th>Quantity</th>\n",
       "      <th>Source</th>\n",
       "      <th>Target city</th>\n",
       "      <th>Target country</th>\n",
       "      <th>Target region</th>\n",
       "      <th>Target state</th>\n",
       "    </tr>\n",
       "  </thead>\n",
       "  <tbody>\n",
       "    <tr>\n",
       "      <th>0</th>\n",
       "      <td>163</td>\n",
       "      <td>NaN</td>\n",
       "      <td>Austria</td>\n",
       "      <td>Mar 16, 2020</td>\n",
       "      <td>NaN</td>\n",
       "      <td>On 10 March 2020 government announced that all...</td>\n",
       "      <td>NaN</td>\n",
       "      <td>NaN</td>\n",
       "      <td>NaN</td>\n",
       "      <td>university closure</td>\n",
       "      <td>NaN</td>\n",
       "      <td>https://en.wikipedia.org/wiki/2020_coronavirus...</td>\n",
       "      <td>NaN</td>\n",
       "      <td>NaN</td>\n",
       "      <td>NaN</td>\n",
       "      <td>NaN</td>\n",
       "    </tr>\n",
       "    <tr>\n",
       "      <th>1</th>\n",
       "      <td>132</td>\n",
       "      <td>NaN</td>\n",
       "      <td>Germany</td>\n",
       "      <td>Feb 01, 2020</td>\n",
       "      <td>NaN</td>\n",
       "      <td>102 German citizens and 26 relatives, all of w...</td>\n",
       "      <td>NaN</td>\n",
       "      <td>NaN</td>\n",
       "      <td>NaN</td>\n",
       "      <td>international traveller screening, traveller q...</td>\n",
       "      <td>NaN</td>\n",
       "      <td>https://www.tagesschau.de/inland/coronavirus-g...</td>\n",
       "      <td>NaN</td>\n",
       "      <td>NaN</td>\n",
       "      <td>NaN</td>\n",
       "      <td>NaN</td>\n",
       "    </tr>\n",
       "    <tr>\n",
       "      <th>2</th>\n",
       "      <td>578</td>\n",
       "      <td>NaN</td>\n",
       "      <td>United Kingdom</td>\n",
       "      <td>Mar 20, 2020</td>\n",
       "      <td>NaN</td>\n",
       "      <td>All schools, nurseries and colleges closed.</td>\n",
       "      <td>NaN</td>\n",
       "      <td>NaN</td>\n",
       "      <td>NaN</td>\n",
       "      <td>nursery schools closure, school closure, unive...</td>\n",
       "      <td>NaN</td>\n",
       "      <td>https://www.theguardian.com/world/2020/mar/18/...</td>\n",
       "      <td>NaN</td>\n",
       "      <td>NaN</td>\n",
       "      <td>NaN</td>\n",
       "      <td>NaN</td>\n",
       "    </tr>\n",
       "    <tr>\n",
       "      <th>3</th>\n",
       "      <td>372</td>\n",
       "      <td>NaN</td>\n",
       "      <td>United Kingdom</td>\n",
       "      <td>Mar 16, 2020</td>\n",
       "      <td>NaN</td>\n",
       "      <td>If one person in any household has a persisten...</td>\n",
       "      <td>NaN</td>\n",
       "      <td>NaN</td>\n",
       "      <td>NaN</td>\n",
       "      <td>14 days, contact isolation</td>\n",
       "      <td>NaN</td>\n",
       "      <td>https://www.bbc.com/news/uk-51920444</td>\n",
       "      <td>NaN</td>\n",
       "      <td>NaN</td>\n",
       "      <td>NaN</td>\n",
       "      <td>NaN</td>\n",
       "    </tr>\n",
       "    <tr>\n",
       "      <th>4</th>\n",
       "      <td>357</td>\n",
       "      <td>NaN</td>\n",
       "      <td>United Kingdom</td>\n",
       "      <td>Mar 16, 2020</td>\n",
       "      <td>NaN</td>\n",
       "      <td>By the weekend, those with the most serious he...</td>\n",
       "      <td>NaN</td>\n",
       "      <td>NaN</td>\n",
       "      <td>NaN</td>\n",
       "      <td>isolation advice to elderly</td>\n",
       "      <td>NaN</td>\n",
       "      <td>https://www.bbc.com/news/uk-51920444</td>\n",
       "      <td>NaN</td>\n",
       "      <td>NaN</td>\n",
       "      <td>NaN</td>\n",
       "      <td>NaN</td>\n",
       "    </tr>\n",
       "  </tbody>\n",
       "</table>\n",
       "</div>"
      ],
      "text/plain": [
       "    ID Applies To         Country    Date Start Date end intended  \\\n",
       "0  163        NaN         Austria  Mar 16, 2020               NaN   \n",
       "1  132        NaN         Germany  Feb 01, 2020               NaN   \n",
       "2  578        NaN  United Kingdom  Mar 20, 2020               NaN   \n",
       "3  372        NaN  United Kingdom  Mar 16, 2020               NaN   \n",
       "4  357        NaN  United Kingdom  Mar 16, 2020               NaN   \n",
       "\n",
       "                  Description of measure implemented Exceptions  \\\n",
       "0  On 10 March 2020 government announced that all...        NaN   \n",
       "1  102 German citizens and 26 relatives, all of w...        NaN   \n",
       "2        All schools, nurseries and colleges closed.        NaN   \n",
       "3  If one person in any household has a persisten...        NaN   \n",
       "4  By the weekend, those with the most serious he...        NaN   \n",
       "\n",
       "  Implementing City Implementing State/Province  \\\n",
       "0               NaN                         NaN   \n",
       "1               NaN                         NaN   \n",
       "2               NaN                         NaN   \n",
       "3               NaN                         NaN   \n",
       "4               NaN                         NaN   \n",
       "\n",
       "                                            Keywords  Quantity  \\\n",
       "0                                 university closure       NaN   \n",
       "1  international traveller screening, traveller q...       NaN   \n",
       "2  nursery schools closure, school closure, unive...       NaN   \n",
       "3                         14 days, contact isolation       NaN   \n",
       "4                        isolation advice to elderly       NaN   \n",
       "\n",
       "                                              Source  Target city  \\\n",
       "0  https://en.wikipedia.org/wiki/2020_coronavirus...          NaN   \n",
       "1  https://www.tagesschau.de/inland/coronavirus-g...          NaN   \n",
       "2  https://www.theguardian.com/world/2020/mar/18/...          NaN   \n",
       "3               https://www.bbc.com/news/uk-51920444          NaN   \n",
       "4               https://www.bbc.com/news/uk-51920444          NaN   \n",
       "\n",
       "  Target country Target region  Target state  \n",
       "0            NaN           NaN           NaN  \n",
       "1            NaN           NaN           NaN  \n",
       "2            NaN           NaN           NaN  \n",
       "3            NaN           NaN           NaN  \n",
       "4            NaN           NaN           NaN  "
      ]
     },
     "execution_count": 56,
     "metadata": {},
     "output_type": "execute_result"
    }
   ],
   "source": [
    "gov_decisions.head()"
   ]
  },
  {
   "cell_type": "markdown",
   "metadata": {},
   "source": [
    "## 4. Related work"
   ]
  },
  {
   "cell_type": "code",
   "execution_count": null,
   "metadata": {},
   "outputs": [],
   "source": []
  }
 ],
 "metadata": {
  "kernelspec": {
   "display_name": "Python 3",
   "language": "python",
   "name": "python3"
  },
  "language_info": {
   "codemirror_mode": {
    "name": "ipython",
    "version": 3
   },
   "file_extension": ".py",
   "mimetype": "text/x-python",
   "name": "python",
   "nbconvert_exporter": "python",
   "pygments_lexer": "ipython3",
   "version": "3.7.6"
  }
 },
 "nbformat": 4,
 "nbformat_minor": 2
}
