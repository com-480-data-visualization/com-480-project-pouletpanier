{
 "cells": [
  {
   "cell_type": "code",
   "execution_count": 1,
   "metadata": {},
   "outputs": [],
   "source": [
    "import pandas as pd\n",
    "import numpy as np\n",
    "import datetime\n",
    "import os\n",
    "import json"
   ]
  },
  {
   "cell_type": "markdown",
   "metadata": {},
   "source": [
    "# General Dataset"
   ]
  },
  {
   "cell_type": "markdown",
   "metadata": {},
   "source": [
    "## 1 General Johns Hopkins University Dataset"
   ]
  },
  {
   "cell_type": "code",
   "execution_count": 2,
   "metadata": {},
   "outputs": [],
   "source": [
    "df = pd.read_csv(\"data/Enigma-JHU.csv\")"
   ]
  },
  {
   "cell_type": "code",
   "execution_count": 3,
   "metadata": {},
   "outputs": [
    {
     "name": "stdout",
     "output_type": "stream",
     "text": [
      "<class 'pandas.core.frame.DataFrame'>\n",
      "RangeIndex: 123687 entries, 0 to 123686\n",
      "Data columns (total 12 columns):\n",
      "fips              109275 non-null float64\n",
      "admin2            109199 non-null object\n",
      "province_state    114568 non-null object\n",
      "country_region    123687 non-null object\n",
      "last_update       123687 non-null object\n",
      "latitude          123504 non-null float64\n",
      "longitude         123504 non-null float64\n",
      "confirmed         123668 non-null float64\n",
      "deaths            123246 non-null float64\n",
      "recovered         123299 non-null float64\n",
      "active            118673 non-null float64\n",
      "combined_key      123687 non-null object\n",
      "dtypes: float64(7), object(5)\n",
      "memory usage: 11.3+ MB\n"
     ]
    }
   ],
   "source": [
    "df.info()"
   ]
  },
  {
   "cell_type": "code",
   "execution_count": 4,
   "metadata": {},
   "outputs": [],
   "source": [
    "df[\"last_update\"] = df[\"last_update\"].apply(lambda x : datetime.datetime.strptime(x[:10], '%Y-%m-%d'))"
   ]
  },
  {
   "cell_type": "code",
   "execution_count": 5,
   "metadata": {},
   "outputs": [],
   "source": [
    "df = df.fillna(0)"
   ]
  },
  {
   "cell_type": "code",
   "execution_count": 6,
   "metadata": {},
   "outputs": [
    {
     "data": {
      "text/html": [
       "<div>\n",
       "<style scoped>\n",
       "    .dataframe tbody tr th:only-of-type {\n",
       "        vertical-align: middle;\n",
       "    }\n",
       "\n",
       "    .dataframe tbody tr th {\n",
       "        vertical-align: top;\n",
       "    }\n",
       "\n",
       "    .dataframe thead th {\n",
       "        text-align: right;\n",
       "    }\n",
       "</style>\n",
       "<table border=\"1\" class=\"dataframe\">\n",
       "  <thead>\n",
       "    <tr style=\"text-align: right;\">\n",
       "      <th></th>\n",
       "      <th>fips</th>\n",
       "      <th>admin2</th>\n",
       "      <th>province_state</th>\n",
       "      <th>country_region</th>\n",
       "      <th>last_update</th>\n",
       "      <th>latitude</th>\n",
       "      <th>longitude</th>\n",
       "      <th>confirmed</th>\n",
       "      <th>deaths</th>\n",
       "      <th>recovered</th>\n",
       "      <th>active</th>\n",
       "      <th>combined_key</th>\n",
       "    </tr>\n",
       "  </thead>\n",
       "  <tbody>\n",
       "    <tr>\n",
       "      <th>0</th>\n",
       "      <td>0.0</td>\n",
       "      <td>0</td>\n",
       "      <td>Anhui</td>\n",
       "      <td>China</td>\n",
       "      <td>2020-01-22</td>\n",
       "      <td>31.826</td>\n",
       "      <td>117.226</td>\n",
       "      <td>1.0</td>\n",
       "      <td>0.0</td>\n",
       "      <td>0.0</td>\n",
       "      <td>0.0</td>\n",
       "      <td>Anhui, China</td>\n",
       "    </tr>\n",
       "    <tr>\n",
       "      <th>1</th>\n",
       "      <td>0.0</td>\n",
       "      <td>0</td>\n",
       "      <td>Beijing</td>\n",
       "      <td>China</td>\n",
       "      <td>2020-01-22</td>\n",
       "      <td>40.182</td>\n",
       "      <td>116.414</td>\n",
       "      <td>14.0</td>\n",
       "      <td>0.0</td>\n",
       "      <td>0.0</td>\n",
       "      <td>0.0</td>\n",
       "      <td>Beijing, China</td>\n",
       "    </tr>\n",
       "    <tr>\n",
       "      <th>2</th>\n",
       "      <td>0.0</td>\n",
       "      <td>0</td>\n",
       "      <td>Chongqing</td>\n",
       "      <td>China</td>\n",
       "      <td>2020-01-22</td>\n",
       "      <td>30.057</td>\n",
       "      <td>107.874</td>\n",
       "      <td>6.0</td>\n",
       "      <td>0.0</td>\n",
       "      <td>0.0</td>\n",
       "      <td>0.0</td>\n",
       "      <td>Chongqing, China</td>\n",
       "    </tr>\n",
       "    <tr>\n",
       "      <th>3</th>\n",
       "      <td>0.0</td>\n",
       "      <td>0</td>\n",
       "      <td>Fujian</td>\n",
       "      <td>China</td>\n",
       "      <td>2020-01-22</td>\n",
       "      <td>26.079</td>\n",
       "      <td>117.987</td>\n",
       "      <td>1.0</td>\n",
       "      <td>0.0</td>\n",
       "      <td>0.0</td>\n",
       "      <td>0.0</td>\n",
       "      <td>Fujian, China</td>\n",
       "    </tr>\n",
       "    <tr>\n",
       "      <th>4</th>\n",
       "      <td>0.0</td>\n",
       "      <td>0</td>\n",
       "      <td>Gansu</td>\n",
       "      <td>China</td>\n",
       "      <td>2020-01-22</td>\n",
       "      <td>36.061</td>\n",
       "      <td>103.834</td>\n",
       "      <td>0.0</td>\n",
       "      <td>0.0</td>\n",
       "      <td>0.0</td>\n",
       "      <td>0.0</td>\n",
       "      <td>Gansu, China</td>\n",
       "    </tr>\n",
       "  </tbody>\n",
       "</table>\n",
       "</div>"
      ],
      "text/plain": [
       "   fips admin2 province_state country_region last_update  latitude  longitude  \\\n",
       "0   0.0      0          Anhui          China  2020-01-22    31.826    117.226   \n",
       "1   0.0      0        Beijing          China  2020-01-22    40.182    116.414   \n",
       "2   0.0      0      Chongqing          China  2020-01-22    30.057    107.874   \n",
       "3   0.0      0         Fujian          China  2020-01-22    26.079    117.987   \n",
       "4   0.0      0          Gansu          China  2020-01-22    36.061    103.834   \n",
       "\n",
       "   confirmed  deaths  recovered  active      combined_key  \n",
       "0        1.0     0.0        0.0     0.0      Anhui, China  \n",
       "1       14.0     0.0        0.0     0.0    Beijing, China  \n",
       "2        6.0     0.0        0.0     0.0  Chongqing, China  \n",
       "3        1.0     0.0        0.0     0.0     Fujian, China  \n",
       "4        0.0     0.0        0.0     0.0      Gansu, China  "
      ]
     },
     "execution_count": 6,
     "metadata": {},
     "output_type": "execute_result"
    }
   ],
   "source": [
    "df.head()"
   ]
  },
  {
   "cell_type": "code",
   "execution_count": 7,
   "metadata": {},
   "outputs": [],
   "source": [
    "per_day = pd.DataFrame(df.groupby(['country_region', 'last_update'])['confirmed', 'deaths', 'recovered'].sum())"
   ]
  },
  {
   "cell_type": "code",
   "execution_count": 8,
   "metadata": {},
   "outputs": [],
   "source": [
    "per_day = per_day.reset_index()"
   ]
  },
  {
   "cell_type": "code",
   "execution_count": 9,
   "metadata": {},
   "outputs": [],
   "source": [
    "per_day['last_update'] = per_day['last_update'].apply(lambda date: date.isoformat())"
   ]
  },
  {
   "cell_type": "code",
   "execution_count": 10,
   "metadata": {},
   "outputs": [
    {
     "data": {
      "text/html": [
       "<div>\n",
       "<style scoped>\n",
       "    .dataframe tbody tr th:only-of-type {\n",
       "        vertical-align: middle;\n",
       "    }\n",
       "\n",
       "    .dataframe tbody tr th {\n",
       "        vertical-align: top;\n",
       "    }\n",
       "\n",
       "    .dataframe thead th {\n",
       "        text-align: right;\n",
       "    }\n",
       "</style>\n",
       "<table border=\"1\" class=\"dataframe\">\n",
       "  <thead>\n",
       "    <tr style=\"text-align: right;\">\n",
       "      <th></th>\n",
       "      <th>country_region</th>\n",
       "      <th>last_update</th>\n",
       "      <th>confirmed</th>\n",
       "      <th>deaths</th>\n",
       "      <th>recovered</th>\n",
       "    </tr>\n",
       "  </thead>\n",
       "  <tbody>\n",
       "    <tr>\n",
       "      <th>0</th>\n",
       "      <td>Afghanistan</td>\n",
       "      <td>2020-02-24T00:00:00</td>\n",
       "      <td>1.0</td>\n",
       "      <td>0.0</td>\n",
       "      <td>0.0</td>\n",
       "    </tr>\n",
       "    <tr>\n",
       "      <th>1</th>\n",
       "      <td>Afghanistan</td>\n",
       "      <td>2020-03-08T00:00:00</td>\n",
       "      <td>4.0</td>\n",
       "      <td>0.0</td>\n",
       "      <td>0.0</td>\n",
       "    </tr>\n",
       "    <tr>\n",
       "      <th>2</th>\n",
       "      <td>Afghanistan</td>\n",
       "      <td>2020-03-10T00:00:00</td>\n",
       "      <td>5.0</td>\n",
       "      <td>0.0</td>\n",
       "      <td>0.0</td>\n",
       "    </tr>\n",
       "    <tr>\n",
       "      <th>3</th>\n",
       "      <td>Afghanistan</td>\n",
       "      <td>2020-03-11T00:00:00</td>\n",
       "      <td>14.0</td>\n",
       "      <td>0.0</td>\n",
       "      <td>0.0</td>\n",
       "    </tr>\n",
       "    <tr>\n",
       "      <th>4</th>\n",
       "      <td>Afghanistan</td>\n",
       "      <td>2020-03-14T00:00:00</td>\n",
       "      <td>11.0</td>\n",
       "      <td>0.0</td>\n",
       "      <td>0.0</td>\n",
       "    </tr>\n",
       "  </tbody>\n",
       "</table>\n",
       "</div>"
      ],
      "text/plain": [
       "  country_region          last_update  confirmed  deaths  recovered\n",
       "0    Afghanistan  2020-02-24T00:00:00        1.0     0.0        0.0\n",
       "1    Afghanistan  2020-03-08T00:00:00        4.0     0.0        0.0\n",
       "2    Afghanistan  2020-03-10T00:00:00        5.0     0.0        0.0\n",
       "3    Afghanistan  2020-03-11T00:00:00       14.0     0.0        0.0\n",
       "4    Afghanistan  2020-03-14T00:00:00       11.0     0.0        0.0"
      ]
     },
     "execution_count": 10,
     "metadata": {},
     "output_type": "execute_result"
    }
   ],
   "source": [
    "per_day.head()"
   ]
  },
  {
   "cell_type": "code",
   "execution_count": 11,
   "metadata": {},
   "outputs": [],
   "source": [
    "# Selected countries we want to show\n",
    "per_day_selected_countries = per_day[((((per_day['country_region'] == 'US') |\\\n",
    "                                     (per_day['country_region'] == 'Switzerland')) |\\\n",
    "                                     (per_day['country_region'] == 'Italy')) |\\\n",
    "                                     (per_day['country_region'] == 'France')) |\\\n",
    "                                     (per_day['country_region'] == 'Germany')]\n",
    "\n",
    "per_day_selected_countries = per_day_selected_countries.rename({'country_region':'topicName', 'last_update':'date'}, axis=1)\n",
    "\n",
    "# Get unique number for each country\n",
    "df_map_numberToCountry = pd.DataFrame(per_day_selected_countries['topicName'].unique()).reset_index()\n",
    "df_map_numberToCountry['index'] += 1\n",
    "df_map_numberToCountry = df_map_numberToCountry.rename({'index':'name', 0:'topicName'}, axis=1)\n",
    "\n",
    "# Merge with prior dataset\n",
    "per_day_selected_countries = per_day_selected_countries.merge(df_map_numberToCountry, on='topicName')\n",
    "\n",
    "# Divide dataset into 3, one for each plot\n",
    "per_day_selected_countries_cases = per_day_selected_countries[['topicName', 'name', 'date', 'confirmed']]\n",
    "per_day_selected_countries_deaths = per_day_selected_countries[['topicName', 'name', 'date', 'deaths']]\n",
    "per_day_selected_countries_recovered = per_day_selected_countries[['topicName', 'name', 'date', 'recovered']]\n",
    "\n",
    "# Renaming to correspond to Britecharts data format\n",
    "per_day_selected_countries_cases = per_day_selected_countries_cases.rename({'confirmed':'value'}, axis=1)\n",
    "per_day_selected_countries_deaths = per_day_selected_countries_cases.rename({'deaths':'value'}, axis=1)\n",
    "per_day_selected_countries_recovered = per_day_selected_countries_cases.rename({'recovered':'value'}, axis=1)\n",
    "\n",
    "# Reformat to correspond to Britecharts data format\n",
    "per_day_selected_countries_cases_json = per_day_selected_countries_cases.to_dict(orient='records')\n",
    "per_day_selected_countries_deaths_json = per_day_selected_countries_deaths.to_dict(orient='records')\n",
    "per_day_selected_countries_recovered_json = per_day_selected_countries_recovered.to_dict(orient='records')\n",
    "\n",
    "# Saving to json format\n",
    "json1 = json.dumps(per_day_selected_countries_cases_json)\n",
    "json2 = json.dumps(per_day_selected_countries_deaths_json)\n",
    "json3 = json.dumps(per_day_selected_countries_recovered_json)\n",
    "\n",
    "f1 = open('per_day_selected_countries_cases_json.json', 'w')\n",
    "f2 = open('per_day_selected_countries_deaths_json.json', 'w')\n",
    "f3 = open('per_day_selected_countries_recovered_json.json', 'w')\n",
    "\n",
    "f1.write(json1)\n",
    "f2.write(json2)\n",
    "f3.write(json3)\n",
    "\n",
    "f1.close()\n",
    "f2.close()\n",
    "f3.close()\n"
   ]
  },
  {
   "cell_type": "code",
   "execution_count": 12,
   "metadata": {},
   "outputs": [],
   "source": [
    "per_day.to_csv('Data_per_day_country.csv', index = False)"
   ]
  },
  {
   "cell_type": "code",
   "execution_count": 13,
   "metadata": {},
   "outputs": [],
   "source": [
    "for_map = df[[\"last_update\",\"confirmed\",\"deaths\",\"recovered\" , \"latitude\", \"longitude\"]]"
   ]
  },
  {
   "cell_type": "code",
   "execution_count": 14,
   "metadata": {},
   "outputs": [
    {
     "data": {
      "text/html": [
       "<div>\n",
       "<style scoped>\n",
       "    .dataframe tbody tr th:only-of-type {\n",
       "        vertical-align: middle;\n",
       "    }\n",
       "\n",
       "    .dataframe tbody tr th {\n",
       "        vertical-align: top;\n",
       "    }\n",
       "\n",
       "    .dataframe thead th {\n",
       "        text-align: right;\n",
       "    }\n",
       "</style>\n",
       "<table border=\"1\" class=\"dataframe\">\n",
       "  <thead>\n",
       "    <tr style=\"text-align: right;\">\n",
       "      <th></th>\n",
       "      <th>last_update</th>\n",
       "      <th>confirmed</th>\n",
       "      <th>deaths</th>\n",
       "      <th>recovered</th>\n",
       "      <th>latitude</th>\n",
       "      <th>longitude</th>\n",
       "    </tr>\n",
       "  </thead>\n",
       "  <tbody>\n",
       "    <tr>\n",
       "      <th>0</th>\n",
       "      <td>2020-01-22</td>\n",
       "      <td>1.0</td>\n",
       "      <td>0.0</td>\n",
       "      <td>0.0</td>\n",
       "      <td>31.826</td>\n",
       "      <td>117.226</td>\n",
       "    </tr>\n",
       "    <tr>\n",
       "      <th>1</th>\n",
       "      <td>2020-01-22</td>\n",
       "      <td>14.0</td>\n",
       "      <td>0.0</td>\n",
       "      <td>0.0</td>\n",
       "      <td>40.182</td>\n",
       "      <td>116.414</td>\n",
       "    </tr>\n",
       "    <tr>\n",
       "      <th>2</th>\n",
       "      <td>2020-01-22</td>\n",
       "      <td>6.0</td>\n",
       "      <td>0.0</td>\n",
       "      <td>0.0</td>\n",
       "      <td>30.057</td>\n",
       "      <td>107.874</td>\n",
       "    </tr>\n",
       "    <tr>\n",
       "      <th>3</th>\n",
       "      <td>2020-01-22</td>\n",
       "      <td>1.0</td>\n",
       "      <td>0.0</td>\n",
       "      <td>0.0</td>\n",
       "      <td>26.079</td>\n",
       "      <td>117.987</td>\n",
       "    </tr>\n",
       "    <tr>\n",
       "      <th>4</th>\n",
       "      <td>2020-01-22</td>\n",
       "      <td>0.0</td>\n",
       "      <td>0.0</td>\n",
       "      <td>0.0</td>\n",
       "      <td>36.061</td>\n",
       "      <td>103.834</td>\n",
       "    </tr>\n",
       "  </tbody>\n",
       "</table>\n",
       "</div>"
      ],
      "text/plain": [
       "  last_update  confirmed  deaths  recovered  latitude  longitude\n",
       "0  2020-01-22        1.0     0.0        0.0    31.826    117.226\n",
       "1  2020-01-22       14.0     0.0        0.0    40.182    116.414\n",
       "2  2020-01-22        6.0     0.0        0.0    30.057    107.874\n",
       "3  2020-01-22        1.0     0.0        0.0    26.079    117.987\n",
       "4  2020-01-22        0.0     0.0        0.0    36.061    103.834"
      ]
     },
     "execution_count": 14,
     "metadata": {},
     "output_type": "execute_result"
    }
   ],
   "source": [
    "for_map.head()"
   ]
  },
  {
   "cell_type": "code",
   "execution_count": 15,
   "metadata": {},
   "outputs": [],
   "source": [
    "for_map.to_csv('for_map.csv', index = False)"
   ]
  },
  {
   "cell_type": "markdown",
   "metadata": {},
   "source": [
    "## 2 Gender/age Dataset"
   ]
  },
  {
   "cell_type": "code",
   "execution_count": 16,
   "metadata": {},
   "outputs": [],
   "source": [
    "df1 = pd.read_csv(\"data/covid19_sexe.csv\", sep = ',')"
   ]
  },
  {
   "cell_type": "code",
   "execution_count": 17,
   "metadata": {},
   "outputs": [
    {
     "data": {
      "text/html": [
       "<div>\n",
       "<style scoped>\n",
       "    .dataframe tbody tr th:only-of-type {\n",
       "        vertical-align: middle;\n",
       "    }\n",
       "\n",
       "    .dataframe tbody tr th {\n",
       "        vertical-align: top;\n",
       "    }\n",
       "\n",
       "    .dataframe thead th {\n",
       "        text-align: right;\n",
       "    }\n",
       "</style>\n",
       "<table border=\"1\" class=\"dataframe\">\n",
       "  <thead>\n",
       "    <tr style=\"text-align: right;\">\n",
       "      <th></th>\n",
       "      <th>Country</th>\n",
       "      <th>Sex-disaggregated?</th>\n",
       "      <th>Date</th>\n",
       "      <th>Cases</th>\n",
       "      <th>Cases (% male)</th>\n",
       "      <th>Cases (% female)</th>\n",
       "      <th>Deaths</th>\n",
       "      <th>deaths (% male)</th>\n",
       "      <th>deaths (% female)</th>\n",
       "      <th>Deaths among confirmed cases (male)</th>\n",
       "      <th>Deaths in confirmed cases (female)</th>\n",
       "      <th>Deaths in confirmed cases (Male:female ratio)</th>\n",
       "      <th>Sources</th>\n",
       "    </tr>\n",
       "  </thead>\n",
       "  <tbody>\n",
       "    <tr>\n",
       "      <th>0</th>\n",
       "      <td>Dominican Republic</td>\n",
       "      <td>Yes</td>\n",
       "      <td>26.04.20</td>\n",
       "      <td>6,293</td>\n",
       "      <td>54.0</td>\n",
       "      <td>46.0</td>\n",
       "      <td>282</td>\n",
       "      <td>78.0</td>\n",
       "      <td>22.0</td>\n",
       "      <td>6.5%</td>\n",
       "      <td>2.1%</td>\n",
       "      <td>3.0</td>\n",
       "      <td>Source</td>\n",
       "    </tr>\n",
       "    <tr>\n",
       "      <th>1</th>\n",
       "      <td>Thailand</td>\n",
       "      <td>Yes</td>\n",
       "      <td>27.04.20</td>\n",
       "      <td>2,938</td>\n",
       "      <td>55.0</td>\n",
       "      <td>45.0</td>\n",
       "      <td>52</td>\n",
       "      <td>77.0</td>\n",
       "      <td>23.0</td>\n",
       "      <td>2.5%</td>\n",
       "      <td>0.9%</td>\n",
       "      <td>2.7</td>\n",
       "      <td>Source</td>\n",
       "    </tr>\n",
       "    <tr>\n",
       "      <th>2</th>\n",
       "      <td>Greece</td>\n",
       "      <td>Yes</td>\n",
       "      <td>27.04.20</td>\n",
       "      <td>2,324</td>\n",
       "      <td>55.0</td>\n",
       "      <td>45.0</td>\n",
       "      <td>132</td>\n",
       "      <td>76.0</td>\n",
       "      <td>24.0</td>\n",
       "      <td>7.8%</td>\n",
       "      <td>3.1%</td>\n",
       "      <td>2.5</td>\n",
       "      <td>Source</td>\n",
       "    </tr>\n",
       "    <tr>\n",
       "      <th>3</th>\n",
       "      <td>Romania</td>\n",
       "      <td>Yes</td>\n",
       "      <td>26.04.20</td>\n",
       "      <td>11,313</td>\n",
       "      <td>45.0</td>\n",
       "      <td>55.0</td>\n",
       "      <td>619</td>\n",
       "      <td>64.0</td>\n",
       "      <td>36.0</td>\n",
       "      <td>7.9%</td>\n",
       "      <td>3.5%</td>\n",
       "      <td>2.3</td>\n",
       "      <td>Source</td>\n",
       "    </tr>\n",
       "    <tr>\n",
       "      <th>4</th>\n",
       "      <td>The Netherlands</td>\n",
       "      <td>Yes</td>\n",
       "      <td>28.04.20</td>\n",
       "      <td>38,365</td>\n",
       "      <td>38.0</td>\n",
       "      <td>62.0</td>\n",
       "      <td>4,566</td>\n",
       "      <td>57.0</td>\n",
       "      <td>43.0</td>\n",
       "      <td>18.1%</td>\n",
       "      <td>8.1%</td>\n",
       "      <td>2.2</td>\n",
       "      <td>Source</td>\n",
       "    </tr>\n",
       "  </tbody>\n",
       "</table>\n",
       "</div>"
      ],
      "text/plain": [
       "              Country Sex-disaggregated?      Date   Cases  Cases (% male)  \\\n",
       "0  Dominican Republic                Yes  26.04.20   6,293            54.0   \n",
       "1            Thailand                Yes  27.04.20   2,938            55.0   \n",
       "2              Greece                Yes  27.04.20   2,324            55.0   \n",
       "3             Romania                Yes  26.04.20  11,313            45.0   \n",
       "4     The Netherlands                Yes  28.04.20  38,365            38.0   \n",
       "\n",
       "   Cases (% female) Deaths  deaths (% male)  deaths (% female)  \\\n",
       "0              46.0    282             78.0               22.0   \n",
       "1              45.0     52             77.0               23.0   \n",
       "2              45.0    132             76.0               24.0   \n",
       "3              55.0    619             64.0               36.0   \n",
       "4              62.0  4,566             57.0               43.0   \n",
       "\n",
       "  Deaths among confirmed cases (male) Deaths in confirmed cases (female)  \\\n",
       "0                                6.5%                               2.1%   \n",
       "1                                2.5%                               0.9%   \n",
       "2                                7.8%                               3.1%   \n",
       "3                                7.9%                               3.5%   \n",
       "4                               18.1%                               8.1%   \n",
       "\n",
       "   Deaths in confirmed cases (Male:female ratio) Sources  \n",
       "0                                            3.0  Source  \n",
       "1                                            2.7  Source  \n",
       "2                                            2.5  Source  \n",
       "3                                            2.3  Source  \n",
       "4                                            2.2  Source  "
      ]
     },
     "execution_count": 17,
     "metadata": {},
     "output_type": "execute_result"
    }
   ],
   "source": [
    "df1.head()"
   ]
  },
  {
   "cell_type": "code",
   "execution_count": 18,
   "metadata": {},
   "outputs": [],
   "source": [
    "df1.dropna(subset = [\"deaths (% male)\"], inplace = True)"
   ]
  },
  {
   "cell_type": "code",
   "execution_count": 19,
   "metadata": {},
   "outputs": [],
   "source": [
    "df_cl = df1[[\"Country\",\"Cases (% male)\", \"Cases (% female)\", \"deaths (% male)\",\"deaths (% female)\", \"Deaths among confirmed cases (male)\", \"Deaths in confirmed cases (female)\", \"Deaths in confirmed cases (Male:female ratio)\"]]"
   ]
  },
  {
   "cell_type": "code",
   "execution_count": 20,
   "metadata": {},
   "outputs": [
    {
     "data": {
      "text/html": [
       "<div>\n",
       "<style scoped>\n",
       "    .dataframe tbody tr th:only-of-type {\n",
       "        vertical-align: middle;\n",
       "    }\n",
       "\n",
       "    .dataframe tbody tr th {\n",
       "        vertical-align: top;\n",
       "    }\n",
       "\n",
       "    .dataframe thead th {\n",
       "        text-align: right;\n",
       "    }\n",
       "</style>\n",
       "<table border=\"1\" class=\"dataframe\">\n",
       "  <thead>\n",
       "    <tr style=\"text-align: right;\">\n",
       "      <th></th>\n",
       "      <th>Country</th>\n",
       "      <th>Cases (% male)</th>\n",
       "      <th>Cases (% female)</th>\n",
       "      <th>deaths (% male)</th>\n",
       "      <th>deaths (% female)</th>\n",
       "      <th>Deaths among confirmed cases (male)</th>\n",
       "      <th>Deaths in confirmed cases (female)</th>\n",
       "      <th>Deaths in confirmed cases (Male:female ratio)</th>\n",
       "    </tr>\n",
       "  </thead>\n",
       "  <tbody>\n",
       "    <tr>\n",
       "      <th>0</th>\n",
       "      <td>Dominican Republic</td>\n",
       "      <td>54.0</td>\n",
       "      <td>46.0</td>\n",
       "      <td>78.0</td>\n",
       "      <td>22.0</td>\n",
       "      <td>6.5%</td>\n",
       "      <td>2.1%</td>\n",
       "      <td>3.0</td>\n",
       "    </tr>\n",
       "    <tr>\n",
       "      <th>1</th>\n",
       "      <td>Thailand</td>\n",
       "      <td>55.0</td>\n",
       "      <td>45.0</td>\n",
       "      <td>77.0</td>\n",
       "      <td>23.0</td>\n",
       "      <td>2.5%</td>\n",
       "      <td>0.9%</td>\n",
       "      <td>2.7</td>\n",
       "    </tr>\n",
       "    <tr>\n",
       "      <th>2</th>\n",
       "      <td>Greece</td>\n",
       "      <td>55.0</td>\n",
       "      <td>45.0</td>\n",
       "      <td>76.0</td>\n",
       "      <td>24.0</td>\n",
       "      <td>7.8%</td>\n",
       "      <td>3.1%</td>\n",
       "      <td>2.5</td>\n",
       "    </tr>\n",
       "    <tr>\n",
       "      <th>3</th>\n",
       "      <td>Romania</td>\n",
       "      <td>45.0</td>\n",
       "      <td>55.0</td>\n",
       "      <td>64.0</td>\n",
       "      <td>36.0</td>\n",
       "      <td>7.9%</td>\n",
       "      <td>3.5%</td>\n",
       "      <td>2.3</td>\n",
       "    </tr>\n",
       "    <tr>\n",
       "      <th>4</th>\n",
       "      <td>The Netherlands</td>\n",
       "      <td>38.0</td>\n",
       "      <td>62.0</td>\n",
       "      <td>57.0</td>\n",
       "      <td>43.0</td>\n",
       "      <td>18.1%</td>\n",
       "      <td>8.1%</td>\n",
       "      <td>2.2</td>\n",
       "    </tr>\n",
       "  </tbody>\n",
       "</table>\n",
       "</div>"
      ],
      "text/plain": [
       "              Country  Cases (% male)  Cases (% female)  deaths (% male)  \\\n",
       "0  Dominican Republic            54.0              46.0             78.0   \n",
       "1            Thailand            55.0              45.0             77.0   \n",
       "2              Greece            55.0              45.0             76.0   \n",
       "3             Romania            45.0              55.0             64.0   \n",
       "4     The Netherlands            38.0              62.0             57.0   \n",
       "\n",
       "   deaths (% female) Deaths among confirmed cases (male)  \\\n",
       "0               22.0                                6.5%   \n",
       "1               23.0                                2.5%   \n",
       "2               24.0                                7.8%   \n",
       "3               36.0                                7.9%   \n",
       "4               43.0                               18.1%   \n",
       "\n",
       "  Deaths in confirmed cases (female)  \\\n",
       "0                               2.1%   \n",
       "1                               0.9%   \n",
       "2                               3.1%   \n",
       "3                               3.5%   \n",
       "4                               8.1%   \n",
       "\n",
       "   Deaths in confirmed cases (Male:female ratio)  \n",
       "0                                            3.0  \n",
       "1                                            2.7  \n",
       "2                                            2.5  \n",
       "3                                            2.3  \n",
       "4                                            2.2  "
      ]
     },
     "execution_count": 20,
     "metadata": {},
     "output_type": "execute_result"
    }
   ],
   "source": [
    "df_cl.head()"
   ]
  },
  {
   "cell_type": "code",
   "execution_count": 21,
   "metadata": {},
   "outputs": [],
   "source": [
    "df_cl.to_csv(\"Gender_per_country.csv\")"
   ]
  },
  {
   "cell_type": "markdown",
   "metadata": {},
   "source": [
    "## 3 SARS Dataset"
   ]
  },
  {
   "cell_type": "code",
   "execution_count": 22,
   "metadata": {},
   "outputs": [],
   "source": [
    "sars = pd.read_csv(\"data/sars_2003_complete_dataset_clean.csv\", sep = ',')"
   ]
  },
  {
   "cell_type": "code",
   "execution_count": 23,
   "metadata": {},
   "outputs": [
    {
     "data": {
      "text/html": [
       "<div>\n",
       "<style scoped>\n",
       "    .dataframe tbody tr th:only-of-type {\n",
       "        vertical-align: middle;\n",
       "    }\n",
       "\n",
       "    .dataframe tbody tr th {\n",
       "        vertical-align: top;\n",
       "    }\n",
       "\n",
       "    .dataframe thead th {\n",
       "        text-align: right;\n",
       "    }\n",
       "</style>\n",
       "<table border=\"1\" class=\"dataframe\">\n",
       "  <thead>\n",
       "    <tr style=\"text-align: right;\">\n",
       "      <th></th>\n",
       "      <th>Date</th>\n",
       "      <th>Country</th>\n",
       "      <th>Cumulative number of case(s)</th>\n",
       "      <th>Number of deaths</th>\n",
       "      <th>Number recovered</th>\n",
       "    </tr>\n",
       "  </thead>\n",
       "  <tbody>\n",
       "    <tr>\n",
       "      <th>0</th>\n",
       "      <td>2003-03-17</td>\n",
       "      <td>Germany</td>\n",
       "      <td>1</td>\n",
       "      <td>0</td>\n",
       "      <td>0</td>\n",
       "    </tr>\n",
       "    <tr>\n",
       "      <th>1</th>\n",
       "      <td>2003-03-17</td>\n",
       "      <td>Canada</td>\n",
       "      <td>8</td>\n",
       "      <td>2</td>\n",
       "      <td>0</td>\n",
       "    </tr>\n",
       "    <tr>\n",
       "      <th>2</th>\n",
       "      <td>2003-03-17</td>\n",
       "      <td>Singapore</td>\n",
       "      <td>20</td>\n",
       "      <td>0</td>\n",
       "      <td>0</td>\n",
       "    </tr>\n",
       "    <tr>\n",
       "      <th>3</th>\n",
       "      <td>2003-03-17</td>\n",
       "      <td>Hong Kong SAR, China</td>\n",
       "      <td>95</td>\n",
       "      <td>1</td>\n",
       "      <td>0</td>\n",
       "    </tr>\n",
       "    <tr>\n",
       "      <th>4</th>\n",
       "      <td>2003-03-17</td>\n",
       "      <td>Switzerland</td>\n",
       "      <td>2</td>\n",
       "      <td>0</td>\n",
       "      <td>0</td>\n",
       "    </tr>\n",
       "  </tbody>\n",
       "</table>\n",
       "</div>"
      ],
      "text/plain": [
       "         Date               Country  Cumulative number of case(s)  \\\n",
       "0  2003-03-17               Germany                             1   \n",
       "1  2003-03-17                Canada                             8   \n",
       "2  2003-03-17             Singapore                            20   \n",
       "3  2003-03-17  Hong Kong SAR, China                            95   \n",
       "4  2003-03-17           Switzerland                             2   \n",
       "\n",
       "   Number of deaths  Number recovered  \n",
       "0                 0                 0  \n",
       "1                 2                 0  \n",
       "2                 0                 0  \n",
       "3                 1                 0  \n",
       "4                 0                 0  "
      ]
     },
     "execution_count": 23,
     "metadata": {},
     "output_type": "execute_result"
    }
   ],
   "source": [
    "sars.head()"
   ]
  },
  {
   "cell_type": "code",
   "execution_count": 24,
   "metadata": {},
   "outputs": [],
   "source": [
    "sars[[\"Country\", \"Date\", \"Cumulative number of case(s)\", \"Number of deaths\", \"Number recovered\"]].to_csv(\"sars_country_date.csv\", index = False)"
   ]
  },
  {
   "cell_type": "markdown",
   "metadata": {},
   "source": [
    "## 4 Ebola Dataset"
   ]
  },
  {
   "cell_type": "code",
   "execution_count": 25,
   "metadata": {},
   "outputs": [],
   "source": [
    "ebola = pd.read_csv(\"data/ebola_2014_2016_clean.csv\")"
   ]
  },
  {
   "cell_type": "code",
   "execution_count": 26,
   "metadata": {},
   "outputs": [
    {
     "data": {
      "text/html": [
       "<div>\n",
       "<style scoped>\n",
       "    .dataframe tbody tr th:only-of-type {\n",
       "        vertical-align: middle;\n",
       "    }\n",
       "\n",
       "    .dataframe tbody tr th {\n",
       "        vertical-align: top;\n",
       "    }\n",
       "\n",
       "    .dataframe thead th {\n",
       "        text-align: right;\n",
       "    }\n",
       "</style>\n",
       "<table border=\"1\" class=\"dataframe\">\n",
       "  <thead>\n",
       "    <tr style=\"text-align: right;\">\n",
       "      <th></th>\n",
       "      <th>Country</th>\n",
       "      <th>Date</th>\n",
       "      <th>No. of suspected cases</th>\n",
       "      <th>No. of probable cases</th>\n",
       "      <th>No. of confirmed cases</th>\n",
       "      <th>No. of confirmed, probable and suspected cases</th>\n",
       "      <th>No. of suspected deaths</th>\n",
       "      <th>No. of probable deaths</th>\n",
       "      <th>No. of confirmed deaths</th>\n",
       "      <th>No. of confirmed, probable and suspected deaths</th>\n",
       "    </tr>\n",
       "  </thead>\n",
       "  <tbody>\n",
       "    <tr>\n",
       "      <th>0</th>\n",
       "      <td>Guinea</td>\n",
       "      <td>2014-08-29</td>\n",
       "      <td>25.0</td>\n",
       "      <td>141.0</td>\n",
       "      <td>482.0</td>\n",
       "      <td>648.0</td>\n",
       "      <td>2.0</td>\n",
       "      <td>141.0</td>\n",
       "      <td>287.0</td>\n",
       "      <td>430.0</td>\n",
       "    </tr>\n",
       "    <tr>\n",
       "      <th>1</th>\n",
       "      <td>Nigeria</td>\n",
       "      <td>2014-08-29</td>\n",
       "      <td>3.0</td>\n",
       "      <td>1.0</td>\n",
       "      <td>15.0</td>\n",
       "      <td>19.0</td>\n",
       "      <td>0.0</td>\n",
       "      <td>1.0</td>\n",
       "      <td>6.0</td>\n",
       "      <td>7.0</td>\n",
       "    </tr>\n",
       "    <tr>\n",
       "      <th>2</th>\n",
       "      <td>Sierra Leone</td>\n",
       "      <td>2014-08-29</td>\n",
       "      <td>54.0</td>\n",
       "      <td>37.0</td>\n",
       "      <td>935.0</td>\n",
       "      <td>1026.0</td>\n",
       "      <td>8.0</td>\n",
       "      <td>34.0</td>\n",
       "      <td>380.0</td>\n",
       "      <td>422.0</td>\n",
       "    </tr>\n",
       "    <tr>\n",
       "      <th>3</th>\n",
       "      <td>Liberia</td>\n",
       "      <td>2014-08-29</td>\n",
       "      <td>382.0</td>\n",
       "      <td>674.0</td>\n",
       "      <td>322.0</td>\n",
       "      <td>1378.0</td>\n",
       "      <td>168.0</td>\n",
       "      <td>301.0</td>\n",
       "      <td>225.0</td>\n",
       "      <td>694.0</td>\n",
       "    </tr>\n",
       "    <tr>\n",
       "      <th>4</th>\n",
       "      <td>Sierra Leone</td>\n",
       "      <td>2014-09-05</td>\n",
       "      <td>78.0</td>\n",
       "      <td>37.0</td>\n",
       "      <td>1146.0</td>\n",
       "      <td>1261.0</td>\n",
       "      <td>11.0</td>\n",
       "      <td>37.0</td>\n",
       "      <td>443.0</td>\n",
       "      <td>491.0</td>\n",
       "    </tr>\n",
       "  </tbody>\n",
       "</table>\n",
       "</div>"
      ],
      "text/plain": [
       "        Country        Date  No. of suspected cases  No. of probable cases  \\\n",
       "0        Guinea  2014-08-29                    25.0                  141.0   \n",
       "1       Nigeria  2014-08-29                     3.0                    1.0   \n",
       "2  Sierra Leone  2014-08-29                    54.0                   37.0   \n",
       "3       Liberia  2014-08-29                   382.0                  674.0   \n",
       "4  Sierra Leone  2014-09-05                    78.0                   37.0   \n",
       "\n",
       "   No. of confirmed cases  No. of confirmed, probable and suspected cases  \\\n",
       "0                   482.0                                           648.0   \n",
       "1                    15.0                                            19.0   \n",
       "2                   935.0                                          1026.0   \n",
       "3                   322.0                                          1378.0   \n",
       "4                  1146.0                                          1261.0   \n",
       "\n",
       "   No. of suspected deaths  No. of probable deaths  No. of confirmed deaths  \\\n",
       "0                      2.0                   141.0                    287.0   \n",
       "1                      0.0                     1.0                      6.0   \n",
       "2                      8.0                    34.0                    380.0   \n",
       "3                    168.0                   301.0                    225.0   \n",
       "4                     11.0                    37.0                    443.0   \n",
       "\n",
       "   No. of confirmed, probable and suspected deaths  \n",
       "0                                            430.0  \n",
       "1                                              7.0  \n",
       "2                                            422.0  \n",
       "3                                            694.0  \n",
       "4                                            491.0  "
      ]
     },
     "execution_count": 26,
     "metadata": {},
     "output_type": "execute_result"
    }
   ],
   "source": [
    "ebola.head()"
   ]
  },
  {
   "cell_type": "code",
   "execution_count": 27,
   "metadata": {},
   "outputs": [],
   "source": [
    "ebola.fillna(0, inplace = True)"
   ]
  },
  {
   "cell_type": "code",
   "execution_count": 28,
   "metadata": {},
   "outputs": [],
   "source": [
    "ebola[[\"Country\", \"Date\", \"No. of confirmed cases\", \"No. of confirmed deaths\"]].to_csv(\"ebola_country_date.csv\", index = False)"
   ]
  },
  {
   "cell_type": "markdown",
   "metadata": {},
   "source": [
    "# Government Dataset and Testing Dataset"
   ]
  },
  {
   "cell_type": "markdown",
   "metadata": {},
   "source": [
    "#### Testing Dataset"
   ]
  },
  {
   "cell_type": "code",
   "execution_count": 29,
   "metadata": {},
   "outputs": [],
   "source": [
    "tests = pd.read_csv('data/covid19_testing.csv')"
   ]
  },
  {
   "cell_type": "code",
   "execution_count": 30,
   "metadata": {},
   "outputs": [
    {
     "data": {
      "text/html": [
       "<div>\n",
       "<style scoped>\n",
       "    .dataframe tbody tr th:only-of-type {\n",
       "        vertical-align: middle;\n",
       "    }\n",
       "\n",
       "    .dataframe tbody tr th {\n",
       "        vertical-align: top;\n",
       "    }\n",
       "\n",
       "    .dataframe thead th {\n",
       "        text-align: right;\n",
       "    }\n",
       "</style>\n",
       "<table border=\"1\" class=\"dataframe\">\n",
       "  <thead>\n",
       "    <tr style=\"text-align: right;\">\n",
       "      <th></th>\n",
       "      <th>Entity</th>\n",
       "      <th>Code</th>\n",
       "      <th>Date</th>\n",
       "      <th>Total tests per thousand</th>\n",
       "    </tr>\n",
       "  </thead>\n",
       "  <tbody>\n",
       "    <tr>\n",
       "      <th>0</th>\n",
       "      <td>Argentina</td>\n",
       "      <td>ARG</td>\n",
       "      <td>Apr 8, 2020</td>\n",
       "      <td>0.295</td>\n",
       "    </tr>\n",
       "    <tr>\n",
       "      <th>1</th>\n",
       "      <td>Argentina</td>\n",
       "      <td>ARG</td>\n",
       "      <td>Apr 9, 2020</td>\n",
       "      <td>0.329</td>\n",
       "    </tr>\n",
       "    <tr>\n",
       "      <th>2</th>\n",
       "      <td>Argentina</td>\n",
       "      <td>ARG</td>\n",
       "      <td>Apr 10, 2020</td>\n",
       "      <td>0.362</td>\n",
       "    </tr>\n",
       "    <tr>\n",
       "      <th>3</th>\n",
       "      <td>Argentina</td>\n",
       "      <td>ARG</td>\n",
       "      <td>Apr 11, 2020</td>\n",
       "      <td>0.399</td>\n",
       "    </tr>\n",
       "    <tr>\n",
       "      <th>4</th>\n",
       "      <td>Argentina</td>\n",
       "      <td>ARG</td>\n",
       "      <td>Apr 13, 2020</td>\n",
       "      <td>0.437</td>\n",
       "    </tr>\n",
       "  </tbody>\n",
       "</table>\n",
       "</div>"
      ],
      "text/plain": [
       "      Entity Code          Date  Total tests per thousand\n",
       "0  Argentina  ARG   Apr 8, 2020                     0.295\n",
       "1  Argentina  ARG   Apr 9, 2020                     0.329\n",
       "2  Argentina  ARG  Apr 10, 2020                     0.362\n",
       "3  Argentina  ARG  Apr 11, 2020                     0.399\n",
       "4  Argentina  ARG  Apr 13, 2020                     0.437"
      ]
     },
     "execution_count": 30,
     "metadata": {},
     "output_type": "execute_result"
    }
   ],
   "source": [
    "tests.head()"
   ]
  },
  {
   "cell_type": "code",
   "execution_count": 31,
   "metadata": {},
   "outputs": [
    {
     "data": {
      "text/plain": [
       "False"
      ]
     },
     "execution_count": 31,
     "metadata": {},
     "output_type": "execute_result"
    }
   ],
   "source": [
    "tests[['Entity', 'Date', 'Total tests per thousand']].isnull().values.any()"
   ]
  },
  {
   "cell_type": "code",
   "execution_count": 32,
   "metadata": {},
   "outputs": [
    {
     "data": {
      "text/plain": [
       "True"
      ]
     },
     "execution_count": 32,
     "metadata": {},
     "output_type": "execute_result"
    }
   ],
   "source": [
    "tests['Code'].isnull().values.any()"
   ]
  },
  {
   "cell_type": "markdown",
   "metadata": {},
   "source": [
    "We can thus delete the `Code` columns from the dataset"
   ]
  },
  {
   "cell_type": "code",
   "execution_count": 33,
   "metadata": {},
   "outputs": [],
   "source": [
    "tests = tests.drop(columns = ['Code'])"
   ]
  },
  {
   "cell_type": "markdown",
   "metadata": {},
   "source": [
    "Check if no two dates are the same for a given Country"
   ]
  },
  {
   "cell_type": "code",
   "execution_count": 34,
   "metadata": {
    "scrolled": false
   },
   "outputs": [
    {
     "data": {
      "text/plain": [
       "array([False])"
      ]
     },
     "execution_count": 34,
     "metadata": {},
     "output_type": "execute_result"
    }
   ],
   "source": [
    "tests.groupby('Entity')['Date'].apply(lambda x: x.duplicated().any()).unique()"
   ]
  },
  {
   "cell_type": "code",
   "execution_count": 35,
   "metadata": {},
   "outputs": [],
   "source": [
    "selected_countries = ['United States', 'France', 'Belgium', 'Germany']"
   ]
  },
  {
   "cell_type": "code",
   "execution_count": 36,
   "metadata": {},
   "outputs": [],
   "source": [
    "tests = tests[tests['Entity'].isin(selected_countries)]"
   ]
  },
  {
   "cell_type": "code",
   "execution_count": 37,
   "metadata": {},
   "outputs": [
    {
     "data": {
      "text/html": [
       "<div>\n",
       "<style scoped>\n",
       "    .dataframe tbody tr th:only-of-type {\n",
       "        vertical-align: middle;\n",
       "    }\n",
       "\n",
       "    .dataframe tbody tr th {\n",
       "        vertical-align: top;\n",
       "    }\n",
       "\n",
       "    .dataframe thead th {\n",
       "        text-align: right;\n",
       "    }\n",
       "</style>\n",
       "<table border=\"1\" class=\"dataframe\">\n",
       "  <thead>\n",
       "    <tr style=\"text-align: right;\">\n",
       "      <th></th>\n",
       "      <th>Entity</th>\n",
       "      <th>Date</th>\n",
       "      <th>Total tests per thousand</th>\n",
       "    </tr>\n",
       "  </thead>\n",
       "  <tbody>\n",
       "    <tr>\n",
       "      <th>256</th>\n",
       "      <td>Belgium</td>\n",
       "      <td>Mar 1, 2020</td>\n",
       "      <td>0.005</td>\n",
       "    </tr>\n",
       "    <tr>\n",
       "      <th>257</th>\n",
       "      <td>Belgium</td>\n",
       "      <td>Mar 2, 2020</td>\n",
       "      <td>0.029</td>\n",
       "    </tr>\n",
       "    <tr>\n",
       "      <th>258</th>\n",
       "      <td>Belgium</td>\n",
       "      <td>Mar 3, 2020</td>\n",
       "      <td>0.070</td>\n",
       "    </tr>\n",
       "    <tr>\n",
       "      <th>259</th>\n",
       "      <td>Belgium</td>\n",
       "      <td>Mar 4, 2020</td>\n",
       "      <td>0.126</td>\n",
       "    </tr>\n",
       "    <tr>\n",
       "      <th>260</th>\n",
       "      <td>Belgium</td>\n",
       "      <td>Mar 5, 2020</td>\n",
       "      <td>0.187</td>\n",
       "    </tr>\n",
       "  </tbody>\n",
       "</table>\n",
       "</div>"
      ],
      "text/plain": [
       "      Entity         Date  Total tests per thousand\n",
       "256  Belgium  Mar 1, 2020                     0.005\n",
       "257  Belgium  Mar 2, 2020                     0.029\n",
       "258  Belgium  Mar 3, 2020                     0.070\n",
       "259  Belgium  Mar 4, 2020                     0.126\n",
       "260  Belgium  Mar 5, 2020                     0.187"
      ]
     },
     "execution_count": 37,
     "metadata": {},
     "output_type": "execute_result"
    }
   ],
   "source": [
    "tests.head()"
   ]
  },
  {
   "cell_type": "code",
   "execution_count": null,
   "metadata": {},
   "outputs": [],
   "source": []
  },
  {
   "cell_type": "markdown",
   "metadata": {},
   "source": [
    "#### Governement Dataset"
   ]
  },
  {
   "cell_type": "code",
   "execution_count": 38,
   "metadata": {},
   "outputs": [],
   "source": [
    "gov_oxford = pd.read_csv('data/gov_oxford.csv')"
   ]
  },
  {
   "cell_type": "code",
   "execution_count": 39,
   "metadata": {},
   "outputs": [
    {
     "data": {
      "text/html": [
       "<div>\n",
       "<style scoped>\n",
       "    .dataframe tbody tr th:only-of-type {\n",
       "        vertical-align: middle;\n",
       "    }\n",
       "\n",
       "    .dataframe tbody tr th {\n",
       "        vertical-align: top;\n",
       "    }\n",
       "\n",
       "    .dataframe thead th {\n",
       "        text-align: right;\n",
       "    }\n",
       "</style>\n",
       "<table border=\"1\" class=\"dataframe\">\n",
       "  <thead>\n",
       "    <tr style=\"text-align: right;\">\n",
       "      <th></th>\n",
       "      <th>CountryName</th>\n",
       "      <th>CountryCode</th>\n",
       "      <th>Date</th>\n",
       "      <th>C1_School closing</th>\n",
       "      <th>C1_Flag</th>\n",
       "      <th>C2_Workplace closing</th>\n",
       "      <th>C2_Flag</th>\n",
       "      <th>C3_Cancel public events</th>\n",
       "      <th>C3_Flag</th>\n",
       "      <th>C4_Restrictions on gatherings</th>\n",
       "      <th>...</th>\n",
       "      <th>H3_Contact tracing</th>\n",
       "      <th>H4_Emergency investment in healthcare</th>\n",
       "      <th>H5_Investment in vaccines</th>\n",
       "      <th>M1_Wildcard</th>\n",
       "      <th>ConfirmedCases</th>\n",
       "      <th>ConfirmedDeaths</th>\n",
       "      <th>StringencyIndex</th>\n",
       "      <th>StringencyIndexForDisplay</th>\n",
       "      <th>LegacyStringencyIndex</th>\n",
       "      <th>LegacyStringencyIndexForDisplay</th>\n",
       "    </tr>\n",
       "  </thead>\n",
       "  <tbody>\n",
       "    <tr>\n",
       "      <th>0</th>\n",
       "      <td>Aruba</td>\n",
       "      <td>ABW</td>\n",
       "      <td>20200101</td>\n",
       "      <td>0.0</td>\n",
       "      <td>NaN</td>\n",
       "      <td>0.0</td>\n",
       "      <td>NaN</td>\n",
       "      <td>0.0</td>\n",
       "      <td>NaN</td>\n",
       "      <td>0.0</td>\n",
       "      <td>...</td>\n",
       "      <td>0.0</td>\n",
       "      <td>0.0</td>\n",
       "      <td>0.0</td>\n",
       "      <td>NaN</td>\n",
       "      <td>NaN</td>\n",
       "      <td>NaN</td>\n",
       "      <td>0.0</td>\n",
       "      <td>0.0</td>\n",
       "      <td>0.0</td>\n",
       "      <td>0.0</td>\n",
       "    </tr>\n",
       "    <tr>\n",
       "      <th>1</th>\n",
       "      <td>Aruba</td>\n",
       "      <td>ABW</td>\n",
       "      <td>20200102</td>\n",
       "      <td>0.0</td>\n",
       "      <td>NaN</td>\n",
       "      <td>0.0</td>\n",
       "      <td>NaN</td>\n",
       "      <td>0.0</td>\n",
       "      <td>NaN</td>\n",
       "      <td>0.0</td>\n",
       "      <td>...</td>\n",
       "      <td>0.0</td>\n",
       "      <td>0.0</td>\n",
       "      <td>0.0</td>\n",
       "      <td>NaN</td>\n",
       "      <td>NaN</td>\n",
       "      <td>NaN</td>\n",
       "      <td>0.0</td>\n",
       "      <td>0.0</td>\n",
       "      <td>0.0</td>\n",
       "      <td>0.0</td>\n",
       "    </tr>\n",
       "    <tr>\n",
       "      <th>2</th>\n",
       "      <td>Aruba</td>\n",
       "      <td>ABW</td>\n",
       "      <td>20200103</td>\n",
       "      <td>0.0</td>\n",
       "      <td>NaN</td>\n",
       "      <td>0.0</td>\n",
       "      <td>NaN</td>\n",
       "      <td>0.0</td>\n",
       "      <td>NaN</td>\n",
       "      <td>0.0</td>\n",
       "      <td>...</td>\n",
       "      <td>0.0</td>\n",
       "      <td>0.0</td>\n",
       "      <td>0.0</td>\n",
       "      <td>NaN</td>\n",
       "      <td>NaN</td>\n",
       "      <td>NaN</td>\n",
       "      <td>0.0</td>\n",
       "      <td>0.0</td>\n",
       "      <td>0.0</td>\n",
       "      <td>0.0</td>\n",
       "    </tr>\n",
       "    <tr>\n",
       "      <th>3</th>\n",
       "      <td>Aruba</td>\n",
       "      <td>ABW</td>\n",
       "      <td>20200104</td>\n",
       "      <td>0.0</td>\n",
       "      <td>NaN</td>\n",
       "      <td>0.0</td>\n",
       "      <td>NaN</td>\n",
       "      <td>0.0</td>\n",
       "      <td>NaN</td>\n",
       "      <td>0.0</td>\n",
       "      <td>...</td>\n",
       "      <td>0.0</td>\n",
       "      <td>0.0</td>\n",
       "      <td>0.0</td>\n",
       "      <td>NaN</td>\n",
       "      <td>NaN</td>\n",
       "      <td>NaN</td>\n",
       "      <td>0.0</td>\n",
       "      <td>0.0</td>\n",
       "      <td>0.0</td>\n",
       "      <td>0.0</td>\n",
       "    </tr>\n",
       "    <tr>\n",
       "      <th>4</th>\n",
       "      <td>Aruba</td>\n",
       "      <td>ABW</td>\n",
       "      <td>20200105</td>\n",
       "      <td>0.0</td>\n",
       "      <td>NaN</td>\n",
       "      <td>0.0</td>\n",
       "      <td>NaN</td>\n",
       "      <td>0.0</td>\n",
       "      <td>NaN</td>\n",
       "      <td>0.0</td>\n",
       "      <td>...</td>\n",
       "      <td>0.0</td>\n",
       "      <td>0.0</td>\n",
       "      <td>0.0</td>\n",
       "      <td>NaN</td>\n",
       "      <td>NaN</td>\n",
       "      <td>NaN</td>\n",
       "      <td>0.0</td>\n",
       "      <td>0.0</td>\n",
       "      <td>0.0</td>\n",
       "      <td>0.0</td>\n",
       "    </tr>\n",
       "  </tbody>\n",
       "</table>\n",
       "<p>5 rows × 36 columns</p>\n",
       "</div>"
      ],
      "text/plain": [
       "  CountryName CountryCode      Date  C1_School closing  C1_Flag  \\\n",
       "0       Aruba         ABW  20200101                0.0      NaN   \n",
       "1       Aruba         ABW  20200102                0.0      NaN   \n",
       "2       Aruba         ABW  20200103                0.0      NaN   \n",
       "3       Aruba         ABW  20200104                0.0      NaN   \n",
       "4       Aruba         ABW  20200105                0.0      NaN   \n",
       "\n",
       "   C2_Workplace closing  C2_Flag  C3_Cancel public events  C3_Flag  \\\n",
       "0                   0.0      NaN                      0.0      NaN   \n",
       "1                   0.0      NaN                      0.0      NaN   \n",
       "2                   0.0      NaN                      0.0      NaN   \n",
       "3                   0.0      NaN                      0.0      NaN   \n",
       "4                   0.0      NaN                      0.0      NaN   \n",
       "\n",
       "   C4_Restrictions on gatherings  ...  H3_Contact tracing  \\\n",
       "0                            0.0  ...                 0.0   \n",
       "1                            0.0  ...                 0.0   \n",
       "2                            0.0  ...                 0.0   \n",
       "3                            0.0  ...                 0.0   \n",
       "4                            0.0  ...                 0.0   \n",
       "\n",
       "   H4_Emergency investment in healthcare  H5_Investment in vaccines  \\\n",
       "0                                    0.0                        0.0   \n",
       "1                                    0.0                        0.0   \n",
       "2                                    0.0                        0.0   \n",
       "3                                    0.0                        0.0   \n",
       "4                                    0.0                        0.0   \n",
       "\n",
       "   M1_Wildcard  ConfirmedCases  ConfirmedDeaths  StringencyIndex  \\\n",
       "0          NaN             NaN              NaN              0.0   \n",
       "1          NaN             NaN              NaN              0.0   \n",
       "2          NaN             NaN              NaN              0.0   \n",
       "3          NaN             NaN              NaN              0.0   \n",
       "4          NaN             NaN              NaN              0.0   \n",
       "\n",
       "   StringencyIndexForDisplay  LegacyStringencyIndex  \\\n",
       "0                        0.0                    0.0   \n",
       "1                        0.0                    0.0   \n",
       "2                        0.0                    0.0   \n",
       "3                        0.0                    0.0   \n",
       "4                        0.0                    0.0   \n",
       "\n",
       "   LegacyStringencyIndexForDisplay  \n",
       "0                              0.0  \n",
       "1                              0.0  \n",
       "2                              0.0  \n",
       "3                              0.0  \n",
       "4                              0.0  \n",
       "\n",
       "[5 rows x 36 columns]"
      ]
     },
     "execution_count": 39,
     "metadata": {},
     "output_type": "execute_result"
    }
   ],
   "source": [
    "gov_oxford.head()"
   ]
  },
  {
   "cell_type": "code",
   "execution_count": 40,
   "metadata": {},
   "outputs": [
    {
     "ename": "KeyError",
     "evalue": "\"['S1_Notes' 'S1_IsGeneral' 'S2_Notes' 'S2_IsGeneral' 'S3_Notes'\\n 'S3_IsGeneral' 'S4_Notes' 'S4_IsGeneral' 'S5_Notes' 'S5_IsGeneral'\\n 'S6_Notes' 'S6_IsGeneral' 'S7_Notes' 'S8_Notes' 'S9_Notes' 'S10_Notes'\\n 'S11_Notes' 'S12_Notes' 'S13_Notes' 'Unnamed: 39'] not found in axis\"",
     "output_type": "error",
     "traceback": [
      "\u001b[0;31m---------------------------------------------------------------------------\u001b[0m",
      "\u001b[0;31mKeyError\u001b[0m                                  Traceback (most recent call last)",
      "\u001b[0;32m<ipython-input-40-90929fe6b0e9>\u001b[0m in \u001b[0;36m<module>\u001b[0;34m\u001b[0m\n\u001b[0;32m----> 1\u001b[0;31m \u001b[0mgov_oxford\u001b[0m \u001b[0;34m=\u001b[0m \u001b[0mgov_oxford\u001b[0m\u001b[0;34m.\u001b[0m\u001b[0mdrop\u001b[0m\u001b[0;34m(\u001b[0m\u001b[0mcolumns\u001b[0m \u001b[0;34m=\u001b[0m \u001b[0;34m[\u001b[0m\u001b[0;34m'S1_Notes'\u001b[0m\u001b[0;34m,\u001b[0m \u001b[0;34m'S1_IsGeneral'\u001b[0m\u001b[0;34m,\u001b[0m \u001b[0;34m'S2_Notes'\u001b[0m\u001b[0;34m,\u001b[0m \u001b[0;34m'S2_IsGeneral'\u001b[0m\u001b[0;34m,\u001b[0m \u001b[0;34m'S3_Notes'\u001b[0m\u001b[0;34m,\u001b[0m \u001b[0;34m'S3_IsGeneral'\u001b[0m\u001b[0;34m,\u001b[0m \u001b[0;34m'S4_Notes'\u001b[0m\u001b[0;34m,\u001b[0m \u001b[0;34m'S4_IsGeneral'\u001b[0m\u001b[0;34m,\u001b[0m \u001b[0;34m'S5_Notes'\u001b[0m\u001b[0;34m,\u001b[0m \u001b[0;34m'S5_IsGeneral'\u001b[0m\u001b[0;34m,\u001b[0m \u001b[0;34m'S6_Notes'\u001b[0m\u001b[0;34m,\u001b[0m \u001b[0;34m'S6_IsGeneral'\u001b[0m\u001b[0;34m,\u001b[0m \u001b[0;34m'S7_Notes'\u001b[0m\u001b[0;34m,\u001b[0m \u001b[0;34m'S8_Notes'\u001b[0m\u001b[0;34m,\u001b[0m \u001b[0;34m'S9_Notes'\u001b[0m\u001b[0;34m,\u001b[0m \u001b[0;34m'S10_Notes'\u001b[0m\u001b[0;34m,\u001b[0m \u001b[0;34m'S11_Notes'\u001b[0m\u001b[0;34m,\u001b[0m \u001b[0;34m'S12_Notes'\u001b[0m\u001b[0;34m,\u001b[0m \u001b[0;34m'S13_Notes'\u001b[0m\u001b[0;34m,\u001b[0m \u001b[0;34m'Unnamed: 39'\u001b[0m\u001b[0;34m]\u001b[0m\u001b[0;34m)\u001b[0m\u001b[0;34m\u001b[0m\u001b[0;34m\u001b[0m\u001b[0m\n\u001b[0m",
      "\u001b[0;32m~/anaconda3/envs/ada_revision/lib/python3.7/site-packages/pandas/core/frame.py\u001b[0m in \u001b[0;36mdrop\u001b[0;34m(self, labels, axis, index, columns, level, inplace, errors)\u001b[0m\n\u001b[1;32m   4115\u001b[0m             \u001b[0mlevel\u001b[0m\u001b[0;34m=\u001b[0m\u001b[0mlevel\u001b[0m\u001b[0;34m,\u001b[0m\u001b[0;34m\u001b[0m\u001b[0;34m\u001b[0m\u001b[0m\n\u001b[1;32m   4116\u001b[0m             \u001b[0minplace\u001b[0m\u001b[0;34m=\u001b[0m\u001b[0minplace\u001b[0m\u001b[0;34m,\u001b[0m\u001b[0;34m\u001b[0m\u001b[0;34m\u001b[0m\u001b[0m\n\u001b[0;32m-> 4117\u001b[0;31m             \u001b[0merrors\u001b[0m\u001b[0;34m=\u001b[0m\u001b[0merrors\u001b[0m\u001b[0;34m,\u001b[0m\u001b[0;34m\u001b[0m\u001b[0;34m\u001b[0m\u001b[0m\n\u001b[0m\u001b[1;32m   4118\u001b[0m         )\n\u001b[1;32m   4119\u001b[0m \u001b[0;34m\u001b[0m\u001b[0m\n",
      "\u001b[0;32m~/anaconda3/envs/ada_revision/lib/python3.7/site-packages/pandas/core/generic.py\u001b[0m in \u001b[0;36mdrop\u001b[0;34m(self, labels, axis, index, columns, level, inplace, errors)\u001b[0m\n\u001b[1;32m   3912\u001b[0m         \u001b[0;32mfor\u001b[0m \u001b[0maxis\u001b[0m\u001b[0;34m,\u001b[0m \u001b[0mlabels\u001b[0m \u001b[0;32min\u001b[0m \u001b[0maxes\u001b[0m\u001b[0;34m.\u001b[0m\u001b[0mitems\u001b[0m\u001b[0;34m(\u001b[0m\u001b[0;34m)\u001b[0m\u001b[0;34m:\u001b[0m\u001b[0;34m\u001b[0m\u001b[0;34m\u001b[0m\u001b[0m\n\u001b[1;32m   3913\u001b[0m             \u001b[0;32mif\u001b[0m \u001b[0mlabels\u001b[0m \u001b[0;32mis\u001b[0m \u001b[0;32mnot\u001b[0m \u001b[0;32mNone\u001b[0m\u001b[0;34m:\u001b[0m\u001b[0;34m\u001b[0m\u001b[0;34m\u001b[0m\u001b[0m\n\u001b[0;32m-> 3914\u001b[0;31m                 \u001b[0mobj\u001b[0m \u001b[0;34m=\u001b[0m \u001b[0mobj\u001b[0m\u001b[0;34m.\u001b[0m\u001b[0m_drop_axis\u001b[0m\u001b[0;34m(\u001b[0m\u001b[0mlabels\u001b[0m\u001b[0;34m,\u001b[0m \u001b[0maxis\u001b[0m\u001b[0;34m,\u001b[0m \u001b[0mlevel\u001b[0m\u001b[0;34m=\u001b[0m\u001b[0mlevel\u001b[0m\u001b[0;34m,\u001b[0m \u001b[0merrors\u001b[0m\u001b[0;34m=\u001b[0m\u001b[0merrors\u001b[0m\u001b[0;34m)\u001b[0m\u001b[0;34m\u001b[0m\u001b[0;34m\u001b[0m\u001b[0m\n\u001b[0m\u001b[1;32m   3915\u001b[0m \u001b[0;34m\u001b[0m\u001b[0m\n\u001b[1;32m   3916\u001b[0m         \u001b[0;32mif\u001b[0m \u001b[0minplace\u001b[0m\u001b[0;34m:\u001b[0m\u001b[0;34m\u001b[0m\u001b[0;34m\u001b[0m\u001b[0m\n",
      "\u001b[0;32m~/anaconda3/envs/ada_revision/lib/python3.7/site-packages/pandas/core/generic.py\u001b[0m in \u001b[0;36m_drop_axis\u001b[0;34m(self, labels, axis, level, errors)\u001b[0m\n\u001b[1;32m   3944\u001b[0m                 \u001b[0mnew_axis\u001b[0m \u001b[0;34m=\u001b[0m \u001b[0maxis\u001b[0m\u001b[0;34m.\u001b[0m\u001b[0mdrop\u001b[0m\u001b[0;34m(\u001b[0m\u001b[0mlabels\u001b[0m\u001b[0;34m,\u001b[0m \u001b[0mlevel\u001b[0m\u001b[0;34m=\u001b[0m\u001b[0mlevel\u001b[0m\u001b[0;34m,\u001b[0m \u001b[0merrors\u001b[0m\u001b[0;34m=\u001b[0m\u001b[0merrors\u001b[0m\u001b[0;34m)\u001b[0m\u001b[0;34m\u001b[0m\u001b[0;34m\u001b[0m\u001b[0m\n\u001b[1;32m   3945\u001b[0m             \u001b[0;32melse\u001b[0m\u001b[0;34m:\u001b[0m\u001b[0;34m\u001b[0m\u001b[0;34m\u001b[0m\u001b[0m\n\u001b[0;32m-> 3946\u001b[0;31m                 \u001b[0mnew_axis\u001b[0m \u001b[0;34m=\u001b[0m \u001b[0maxis\u001b[0m\u001b[0;34m.\u001b[0m\u001b[0mdrop\u001b[0m\u001b[0;34m(\u001b[0m\u001b[0mlabels\u001b[0m\u001b[0;34m,\u001b[0m \u001b[0merrors\u001b[0m\u001b[0;34m=\u001b[0m\u001b[0merrors\u001b[0m\u001b[0;34m)\u001b[0m\u001b[0;34m\u001b[0m\u001b[0;34m\u001b[0m\u001b[0m\n\u001b[0m\u001b[1;32m   3947\u001b[0m             \u001b[0mresult\u001b[0m \u001b[0;34m=\u001b[0m \u001b[0mself\u001b[0m\u001b[0;34m.\u001b[0m\u001b[0mreindex\u001b[0m\u001b[0;34m(\u001b[0m\u001b[0;34m**\u001b[0m\u001b[0;34m{\u001b[0m\u001b[0maxis_name\u001b[0m\u001b[0;34m:\u001b[0m \u001b[0mnew_axis\u001b[0m\u001b[0;34m}\u001b[0m\u001b[0;34m)\u001b[0m\u001b[0;34m\u001b[0m\u001b[0;34m\u001b[0m\u001b[0m\n\u001b[1;32m   3948\u001b[0m \u001b[0;34m\u001b[0m\u001b[0m\n",
      "\u001b[0;32m~/anaconda3/envs/ada_revision/lib/python3.7/site-packages/pandas/core/indexes/base.py\u001b[0m in \u001b[0;36mdrop\u001b[0;34m(self, labels, errors)\u001b[0m\n\u001b[1;32m   5338\u001b[0m         \u001b[0;32mif\u001b[0m \u001b[0mmask\u001b[0m\u001b[0;34m.\u001b[0m\u001b[0many\u001b[0m\u001b[0;34m(\u001b[0m\u001b[0;34m)\u001b[0m\u001b[0;34m:\u001b[0m\u001b[0;34m\u001b[0m\u001b[0;34m\u001b[0m\u001b[0m\n\u001b[1;32m   5339\u001b[0m             \u001b[0;32mif\u001b[0m \u001b[0merrors\u001b[0m \u001b[0;34m!=\u001b[0m \u001b[0;34m\"ignore\"\u001b[0m\u001b[0;34m:\u001b[0m\u001b[0;34m\u001b[0m\u001b[0;34m\u001b[0m\u001b[0m\n\u001b[0;32m-> 5340\u001b[0;31m                 \u001b[0;32mraise\u001b[0m \u001b[0mKeyError\u001b[0m\u001b[0;34m(\u001b[0m\u001b[0;34m\"{} not found in axis\"\u001b[0m\u001b[0;34m.\u001b[0m\u001b[0mformat\u001b[0m\u001b[0;34m(\u001b[0m\u001b[0mlabels\u001b[0m\u001b[0;34m[\u001b[0m\u001b[0mmask\u001b[0m\u001b[0;34m]\u001b[0m\u001b[0;34m)\u001b[0m\u001b[0;34m)\u001b[0m\u001b[0;34m\u001b[0m\u001b[0;34m\u001b[0m\u001b[0m\n\u001b[0m\u001b[1;32m   5341\u001b[0m             \u001b[0mindexer\u001b[0m \u001b[0;34m=\u001b[0m \u001b[0mindexer\u001b[0m\u001b[0;34m[\u001b[0m\u001b[0;34m~\u001b[0m\u001b[0mmask\u001b[0m\u001b[0;34m]\u001b[0m\u001b[0;34m\u001b[0m\u001b[0;34m\u001b[0m\u001b[0m\n\u001b[1;32m   5342\u001b[0m         \u001b[0;32mreturn\u001b[0m \u001b[0mself\u001b[0m\u001b[0;34m.\u001b[0m\u001b[0mdelete\u001b[0m\u001b[0;34m(\u001b[0m\u001b[0mindexer\u001b[0m\u001b[0;34m)\u001b[0m\u001b[0;34m\u001b[0m\u001b[0;34m\u001b[0m\u001b[0m\n",
      "\u001b[0;31mKeyError\u001b[0m: \"['S1_Notes' 'S1_IsGeneral' 'S2_Notes' 'S2_IsGeneral' 'S3_Notes'\\n 'S3_IsGeneral' 'S4_Notes' 'S4_IsGeneral' 'S5_Notes' 'S5_IsGeneral'\\n 'S6_Notes' 'S6_IsGeneral' 'S7_Notes' 'S8_Notes' 'S9_Notes' 'S10_Notes'\\n 'S11_Notes' 'S12_Notes' 'S13_Notes' 'Unnamed: 39'] not found in axis\""
     ]
    }
   ],
   "source": [
    "gov_oxford = gov_oxford.drop(columns = ['S1_Notes', 'S1_IsGeneral', 'S2_Notes', 'S2_IsGeneral', 'S3_Notes', 'S3_IsGeneral', 'S4_Notes', 'S4_IsGeneral', 'S5_Notes', 'S5_IsGeneral', 'S6_Notes', 'S6_IsGeneral', 'S7_Notes', 'S8_Notes', 'S9_Notes', 'S10_Notes', 'S11_Notes', 'S12_Notes', 'S13_Notes', 'Unnamed: 39'])"
   ]
  },
  {
   "cell_type": "markdown",
   "metadata": {},
   "source": [
    "We want every country to be compared on the same date range"
   ]
  },
  {
   "cell_type": "code",
   "execution_count": null,
   "metadata": {},
   "outputs": [],
   "source": [
    "len(gov_oxford['CountryName'].unique())"
   ]
  },
  {
   "cell_type": "code",
   "execution_count": null,
   "metadata": {},
   "outputs": [],
   "source": [
    "len(gov_oxford['Date'].unique())"
   ]
  },
  {
   "cell_type": "code",
   "execution_count": null,
   "metadata": {},
   "outputs": [],
   "source": [
    "gov_oxford[['CountryName', 'Date']].isnull().values.any()"
   ]
  },
  {
   "cell_type": "code",
   "execution_count": null,
   "metadata": {},
   "outputs": [],
   "source": [
    "full_dates = gov_oxford[['Date', 'CountryName']].groupby('Date').count()\n",
    "full_dates = full_dates[full_dates['CountryName'] == len(gov_oxford['CountryName'].unique())]\n",
    "full_dates.head()"
   ]
  },
  {
   "cell_type": "code",
   "execution_count": null,
   "metadata": {},
   "outputs": [],
   "source": [
    "full_dates = full_dates.reset_index().drop(columns = ['CountryName'])\n",
    "gov_oxford_map = gov_oxford[gov_oxford['Date'].isin(full_dates)]"
   ]
  },
  {
   "cell_type": "code",
   "execution_count": null,
   "metadata": {},
   "outputs": [],
   "source": [
    "def convert_date_appearance():\n",
    "    "
   ]
  },
  {
   "cell_type": "code",
   "execution_count": null,
   "metadata": {},
   "outputs": [],
   "source": [
    "gov_map_si = gov_oxford_map[['CountryName', 'Date', 'StringencyIndexForDisplay']]"
   ]
  },
  {
   "cell_type": "code",
   "execution_count": null,
   "metadata": {},
   "outputs": [],
   "source": [
    "gov_map_school = gov_oxford_map[['CountryName', 'Date', 'S1_School closing']]"
   ]
  },
  {
   "cell_type": "code",
   "execution_count": null,
   "metadata": {},
   "outputs": [],
   "source": [
    "gov_map_work = gov_oxford_map[['CountryName', 'Date', 'S2_Workplace closing']]"
   ]
  },
  {
   "cell_type": "code",
   "execution_count": null,
   "metadata": {},
   "outputs": [],
   "source": [
    "gov_map_events = gov_oxford_map[['CountryName', 'Date', 'S3_Cancel public events']]"
   ]
  },
  {
   "cell_type": "code",
   "execution_count": null,
   "metadata": {},
   "outputs": [],
   "source": [
    "gov_map_transport = gov_oxford_map[['CountryName', 'Date', 'S4_Close public transport']]"
   ]
  },
  {
   "cell_type": "code",
   "execution_count": null,
   "metadata": {},
   "outputs": [],
   "source": [
    "gov_map_info = gov_oxford_map[['CountryName', 'Date', 'S5_Public information campaigns']]"
   ]
  },
  {
   "cell_type": "code",
   "execution_count": null,
   "metadata": {},
   "outputs": [],
   "source": [
    "gov_map_movement = gov_oxford_map[['CountryName', 'Date', 'S6_Restrictions on internal movement']]"
   ]
  },
  {
   "cell_type": "code",
   "execution_count": null,
   "metadata": {},
   "outputs": [],
   "source": [
    "gov_map_travel_controls = gov_oxford_map[['CountryName', 'Date', 'S7_International travel controls']]"
   ]
  },
  {
   "cell_type": "code",
   "execution_count": null,
   "metadata": {},
   "outputs": [],
   "source": [
    "gov_map_fiscal = gov_oxford_map[['CountryName', 'Date', 'S8_Fiscal measures']]"
   ]
  },
  {
   "cell_type": "code",
   "execution_count": null,
   "metadata": {},
   "outputs": [],
   "source": [
    "gov_map_monetary = gov_oxford_map[['CountryName', 'Date', 'S9_Monetary measures']]"
   ]
  },
  {
   "cell_type": "code",
   "execution_count": null,
   "metadata": {},
   "outputs": [],
   "source": [
    "gov_map_health_investment = gov_oxford_map[['CountryName', 'Date', 'S10_Emergency investment in health care']]"
   ]
  },
  {
   "cell_type": "code",
   "execution_count": null,
   "metadata": {},
   "outputs": [],
   "source": [
    "gov_map_vaccine_investment = gov_oxford_map[['CountryName', 'Date', 'S11_Investment in Vaccines']]"
   ]
  },
  {
   "cell_type": "code",
   "execution_count": null,
   "metadata": {},
   "outputs": [],
   "source": [
    "gov_map_testing = gov_oxford_map[['CountryName', 'Date', 'S12_Testing framework']]"
   ]
  },
  {
   "cell_type": "code",
   "execution_count": null,
   "metadata": {},
   "outputs": [],
   "source": [
    "gov_map_contact_tracing = gov_oxford_map[['CountryName', 'Date', 'S13_Contact tracing']]"
   ]
  },
  {
   "cell_type": "markdown",
   "metadata": {},
   "source": [
    "Country selection"
   ]
  },
  {
   "cell_type": "code",
   "execution_count": null,
   "metadata": {},
   "outputs": [],
   "source": [
    "selected_countries = ['United States', 'France', 'Germany', 'Belgium']"
   ]
  },
  {
   "cell_type": "code",
   "execution_count": null,
   "metadata": {},
   "outputs": [],
   "source": [
    "gov_oxford_select = gov_oxford[gov_oxford['CountryName'].isin(selected_countries)]"
   ]
  },
  {
   "cell_type": "code",
   "execution_count": null,
   "metadata": {},
   "outputs": [],
   "source": [
    "gov_oxford_select.head()"
   ]
  },
  {
   "cell_type": "code",
   "execution_count": null,
   "metadata": {},
   "outputs": [],
   "source": [
    "gov_oxford_select[['CountryName', 'Date', 'ConfirmedCases', 'ConfirmedDeaths']].isnull().values.any()"
   ]
  },
  {
   "cell_type": "code",
   "execution_count": null,
   "metadata": {},
   "outputs": [],
   "source": [
    "gov_selected_cases_si = gov_oxford_select[['CountryName', 'Date', 'ConfirmedCases', 'StringencyIndexForDisplay']]"
   ]
  },
  {
   "cell_type": "markdown",
   "metadata": {},
   "source": [
    "Non economical measures"
   ]
  },
  {
   "cell_type": "code",
   "execution_count": null,
   "metadata": {},
   "outputs": [],
   "source": [
    "non_economical_measures = ['CountryName', 'Date', 'ConfirmedCases', 'S1_School closing', 'S2_Workplace closing', 'S3_Cancel public events', 'S4_Close public transport', 'S5_Public information campaigns', 'S6_Restrictions on internal movement', 'S13_Contact tracing']"
   ]
  },
  {
   "cell_type": "code",
   "execution_count": null,
   "metadata": {},
   "outputs": [],
   "source": [
    "gov_selected_non_eco_measures = gov_oxford_select[non_economical_measures]"
   ]
  },
  {
   "cell_type": "code",
   "execution_count": null,
   "metadata": {},
   "outputs": [],
   "source": [
    "gov_selected_non_eco_measures.head()"
   ]
  },
  {
   "cell_type": "code",
   "execution_count": null,
   "metadata": {},
   "outputs": [],
   "source": [
    "gov_selected_non_eco_measures[['ConfirmedCases']].isnull().values.any()"
   ]
  },
  {
   "cell_type": "code",
   "execution_count": null,
   "metadata": {},
   "outputs": [],
   "source": [
    "gov_selected_non_eco_measures[gov_selected_non_eco_measures.isna().any(axis=1)]"
   ]
  },
  {
   "cell_type": "code",
   "execution_count": null,
   "metadata": {
    "scrolled": true
   },
   "outputs": [],
   "source": [
    "gov_selected_non_eco_measures[(gov_selected_non_eco_measures['CountryName'] == 'Germany') & (gov_selected_non_eco_measures['S6_Restrictions on internal movement'] == 2)]"
   ]
  },
  {
   "cell_type": "markdown",
   "metadata": {},
   "source": [
    "We thus can delete `nan` rows "
   ]
  },
  {
   "cell_type": "code",
   "execution_count": null,
   "metadata": {},
   "outputs": [],
   "source": [
    "gov_selected_non_eco_measures = gov_selected_non_eco_measures.dropna()"
   ]
  },
  {
   "cell_type": "code",
   "execution_count": null,
   "metadata": {
    "scrolled": true
   },
   "outputs": [],
   "source": [
    "gov_selected_non_eco_measures[(gov_selected_non_eco_measures['CountryName'] == 'Germany') & (gov_selected_non_eco_measures['S6_Restrictions on internal movement'] == 2)]"
   ]
  },
  {
   "cell_type": "code",
   "execution_count": null,
   "metadata": {},
   "outputs": [],
   "source": [
    "binary_format = {1:0}\n",
    "binary_format_contact_tracing = {1: 2}"
   ]
  },
  {
   "cell_type": "code",
   "execution_count": null,
   "metadata": {},
   "outputs": [],
   "source": [
    "gov_selected_non_eco_measures[['S1_School closing', 'S2_Workplace closing', 'S3_Cancel public events', 'S4_Close public transport', 'S6_Restrictions on internal movement']] = gov_selected_non_eco_measures[['S1_School closing', 'S2_Workplace closing', 'S3_Cancel public events', 'S4_Close public transport', 'S6_Restrictions on internal movement']].replace(binary_format)\n",
    "gov_selected_non_eco_measures[['S13_Contact tracing']] = gov_selected_non_eco_measures[['S13_Contact tracing']].replace(binary_format_contact_tracing)"
   ]
  },
  {
   "cell_type": "code",
   "execution_count": null,
   "metadata": {},
   "outputs": [],
   "source": [
    "def locate_changes(df, column_to_change):\n",
    "    if df['value'] == False:\n",
    "        df['value'] = df[column_to_change]\n",
    "    else:\n",
    "        df['value'] = np.nan\n",
    "    return df\n",
    "\n",
    "def delete_first_row(df):\n",
    "    return df[1:]\n",
    "\n"
   ]
  },
  {
   "cell_type": "markdown",
   "metadata": {},
   "source": [
    "School measure"
   ]
  },
  {
   "cell_type": "code",
   "execution_count": null,
   "metadata": {},
   "outputs": [],
   "source": [
    "school = gov_selected_non_eco_measures[['CountryName', 'Date', 'S1_School closing']]"
   ]
  },
  {
   "cell_type": "code",
   "execution_count": null,
   "metadata": {},
   "outputs": [],
   "source": [
    "school['value'] = school['S1_School closing'].eq(school['S1_School closing'].shift())"
   ]
  },
  {
   "cell_type": "code",
   "execution_count": null,
   "metadata": {},
   "outputs": [],
   "source": [
    "school = school.apply(lambda x: locate_changes(x, 'S1_School closing'), axis = 1)"
   ]
  },
  {
   "cell_type": "code",
   "execution_count": null,
   "metadata": {},
   "outputs": [],
   "source": [
    "school = school.drop(columns = ['S1_School closing']).dropna()"
   ]
  },
  {
   "cell_type": "code",
   "execution_count": null,
   "metadata": {},
   "outputs": [],
   "source": [
    "school_text_measures = {0: 'Schools open', 2: 'School closed '}"
   ]
  },
  {
   "cell_type": "code",
   "execution_count": null,
   "metadata": {},
   "outputs": [],
   "source": [
    "school = school.replace(school_text_measures).groupby('CountryName').apply(lambda x: delete_first_row(x))"
   ]
  },
  {
   "cell_type": "code",
   "execution_count": null,
   "metadata": {},
   "outputs": [],
   "source": [
    "school"
   ]
  },
  {
   "cell_type": "markdown",
   "metadata": {},
   "source": [
    "Workplace measures"
   ]
  },
  {
   "cell_type": "code",
   "execution_count": null,
   "metadata": {},
   "outputs": [],
   "source": [
    "workplace = gov_selected_non_eco_measures[['CountryName', 'Date', 'S2_Workplace closing']]\n",
    "workplace['value'] = workplace['S2_Workplace closing'].eq(workplace['S2_Workplace closing'].shift())\n",
    "workplace = workplace.apply(lambda x: locate_changes(x, 'S2_Workplace closing'), axis = 1)\n",
    "workplace = workplace.drop(columns = ['S2_Workplace closing']).dropna()\n",
    "workplace_text_measures = {0: 'Workplace open', 2: 'Worplace closed '}\n",
    "workplace = workplace.replace(workplace_text_measures).groupby('CountryName').apply(lambda x: delete_first_row(x))"
   ]
  },
  {
   "cell_type": "markdown",
   "metadata": {},
   "source": [
    "Public events measures"
   ]
  },
  {
   "cell_type": "code",
   "execution_count": null,
   "metadata": {},
   "outputs": [],
   "source": [
    "events = gov_selected_non_eco_measures[['CountryName', 'Date', 'S3_Cancel public events']]\n",
    "events['value'] = events['S3_Cancel public events'].eq(events['S3_Cancel public events'].shift())\n",
    "events = events.apply(lambda x: locate_changes(x, 'S3_Cancel public events'), axis = 1)\n",
    "events = events.drop(columns = ['S3_Cancel public events']).dropna()\n",
    "events_text_measures = {0: 'No measures on public events', 2: 'Cancel public events'}\n",
    "events = events.replace(events_text_measures).groupby('CountryName').apply(lambda x: delete_first_row(x))"
   ]
  },
  {
   "cell_type": "markdown",
   "metadata": {},
   "source": [
    "Public transport measures"
   ]
  },
  {
   "cell_type": "code",
   "execution_count": null,
   "metadata": {},
   "outputs": [],
   "source": [
    "transport = gov_selected_non_eco_measures[['CountryName', 'Date', 'S4_Close public transport']]\n",
    "transport['value'] = transport['S4_Close public transport'].eq(transport['S4_Close public transport'].shift())\n",
    "transport = transport.apply(lambda x: locate_changes(x, 'S4_Close public transport'), axis = 1)\n",
    "transport = transport.drop(columns = ['S4_Close public transport']).dropna()\n",
    "transport_text_measures = {0: 'No measures on public transport', 2: 'Close public transport'}\n",
    "transport = transport.replace(transport_text_measures).groupby('CountryName').apply(lambda x: delete_first_row(x))"
   ]
  },
  {
   "cell_type": "markdown",
   "metadata": {},
   "source": [
    "Information campaign measures"
   ]
  },
  {
   "cell_type": "code",
   "execution_count": null,
   "metadata": {},
   "outputs": [],
   "source": [
    "campaign = gov_selected_non_eco_measures[['CountryName', 'Date', 'S5_Public information campaigns']]\n",
    "campaign['value'] = campaign['S5_Public information campaigns'].eq(campaign['S5_Public information campaigns'].shift())\n",
    "campaign = campaign.apply(lambda x: locate_changes(x, 'S5_Public information campaigns'), axis = 1)\n",
    "campaign = campaign.drop(columns = ['S5_Public information campaigns']).dropna()\n",
    "campaign_text_measures = {0: 'No COVID-19 information campaign', 1: 'COVID-19 public information campaign'}\n",
    "campaign = campaign.replace(campaign_text_measures).groupby('CountryName').apply(lambda x: delete_first_row(x))"
   ]
  },
  {
   "cell_type": "markdown",
   "metadata": {},
   "source": [
    "Internal movement measures"
   ]
  },
  {
   "cell_type": "code",
   "execution_count": null,
   "metadata": {},
   "outputs": [],
   "source": [
    "internal_movement = gov_selected_non_eco_measures[['CountryName', 'Date', 'S6_Restrictions on internal movement']]\n",
    "internal_movement['value'] = internal_movement['S6_Restrictions on internal movement'].eq(internal_movement['S6_Restrictions on internal movement'].shift())\n",
    "internal_movement = internal_movement.apply(lambda x: locate_changes(x, 'S6_Restrictions on internal movement'), axis = 1)\n",
    "internal_movement = internal_movement.drop(columns = ['S6_Restrictions on internal movement']).dropna()\n",
    "internal_movement_text_measures = {0: 'No restriction on internal movement', 2: 'Rectriction on movement'}\n",
    "internal_movement = internal_movement.replace(internal_movement_text_measures).groupby('CountryName').apply(lambda x: delete_first_row(x))"
   ]
  },
  {
   "cell_type": "markdown",
   "metadata": {},
   "source": [
    "Contact tracing measures"
   ]
  },
  {
   "cell_type": "code",
   "execution_count": null,
   "metadata": {},
   "outputs": [],
   "source": [
    "tracing = gov_selected_non_eco_measures[['CountryName', 'Date', 'S13_Contact tracing']]\n",
    "tracing['value'] = tracing['S13_Contact tracing'].eq(tracing['S13_Contact tracing'].shift())\n",
    "tracing = tracing.apply(lambda x: locate_changes(x, 'S13_Contact tracing'), axis = 1)\n",
    "tracing = tracing.drop(columns = ['S13_Contact tracing']).dropna()\n",
    "tracing_text_measures = {0: 'No contact tracing', 2: 'Contact tracing used'}\n",
    "tracing = tracing.replace(tracing_text_measures).groupby('CountryName').apply(lambda x: delete_first_row(x))"
   ]
  },
  {
   "cell_type": "markdown",
   "metadata": {},
   "source": [
    "Concatenate all the values"
   ]
  },
  {
   "cell_type": "code",
   "execution_count": null,
   "metadata": {},
   "outputs": [],
   "source": [
    "overall_measures = school.append(workplace, ignore_index=True).append(events, ignore_index=True).append(transport, ignore_index=True).append(campaign, ignore_index=True).append(internal_movement, ignore_index=True).append(tracing, ignore_index=True)\n",
    "overall_measures.head()"
   ]
  },
  {
   "cell_type": "code",
   "execution_count": null,
   "metadata": {},
   "outputs": [],
   "source": [
    "germany_measures = overall_measures[overall_measures['CountryName'] == 'Germany']\n",
    "usa_measures = overall_measures[overall_measures['CountryName'] == 'France']\n",
    "france_measures = overall_measures[overall_measures['CountryName'] == 'United States']\n",
    "gelgium_measures = overall_measures[overall_measures['CountryName'] == 'Belgium']"
   ]
  },
  {
   "cell_type": "markdown",
   "metadata": {},
   "source": [
    "# Detailed Datasets\n",
    "\n",
    "### Structure:\n",
    "- a) Clean data for general informations by date\n",
    "- b) Clean data for age by date\n",
    "- c) Clean data for gender by date\n",
    "- d) Clean data for hospitalisations by date\n",
    "- e) Compute fatality rate by date"
   ]
  },
  {
   "cell_type": "markdown",
   "metadata": {},
   "source": [
    "## 1 France\n",
    "\n",
    "(Only hospitalisation data)"
   ]
  },
  {
   "cell_type": "code",
   "execution_count": null,
   "metadata": {},
   "outputs": [],
   "source": [
    "PATH_COVID_FR = os.path.expanduser('~/Documents/GitHub/com-480-project-pouletpanier/data/detailed_data/donnees-hospitalieres-covid19-2020-04-25-19h00.csv')\n",
    "PATH_COVID_FR_METADATA = os.path.expanduser('~/Documents/GitHub/com-480-project-pouletpanier/data/detailed_data/metadonnees-donnees-hospitalieres-covid19.csv')\n",
    "\n",
    "PATH_COVID_FR_AGE = os.path.expanduser('~/Documents/GitHub/com-480-project-pouletpanier/data/detailed_data/donnees-hospitalieres-classe-age-covid19-2020-04-25-19h00.csv')\n",
    "PATH_COVID_FR_AGE_METADATA = os.path.expanduser('~/Documents/GitHub/com-480-project-pouletpanier/data/detailed_data/metadonnees-donnees-hospitalieres-covid19-classes-age.csv')\n",
    "PATH_COVID_FR_SEXE_METADATA = os.path.expanduser('~/Documents/GitHub/com-480-project-pouletpanier/data/detailed_data/metadonnees-sexe.csv')\n",
    "\n",
    "PATH_COVID_FR_HOSP = os.path.expanduser('~/Documents/GitHub/com-480-project-pouletpanier/data/detailed_data/donnees-hospitalieres-nouveaux-covid19-2020-04-25-19h00.csv')\n",
    "PATH_COVID_FR_HOSP_METADATA = os.path.expanduser('~/Documents/GitHub/com-480-project-pouletpanier/data/detailed_data/metadonnees-hospit-incid.csv')\n"
   ]
  },
  {
   "cell_type": "code",
   "execution_count": null,
   "metadata": {},
   "outputs": [],
   "source": [
    "covid_fr = pd.read_csv(PATH_COVID_FR, sep=';')\n",
    "covid_fr_metadata = pd.read_csv(PATH_COVID_FR_METADATA, sep=';')\n",
    "\n",
    "covid_fr_age = pd.read_csv(PATH_COVID_FR_AGE, sep=';')\n",
    "covid_fr_age_metadata = pd.read_csv(PATH_COVID_FR_AGE_METADATA, sep=';')\n",
    "covid_fr_sexe_metadata = pd.read_csv(PATH_COVID_FR_SEXE_METADATA)\n",
    "\n",
    "covid_fr_hosp = pd.read_csv(PATH_COVID_FR_HOSP, sep=';')\n",
    "covid_fr_hosp_metadata = pd.read_csv(PATH_COVID_FR_HOSP_METADATA, sep=';')"
   ]
  },
  {
   "cell_type": "code",
   "execution_count": null,
   "metadata": {},
   "outputs": [],
   "source": [
    "covid_fr.head()"
   ]
  },
  {
   "cell_type": "code",
   "execution_count": null,
   "metadata": {},
   "outputs": [],
   "source": [
    "covid_fr_metadata"
   ]
  },
  {
   "cell_type": "code",
   "execution_count": null,
   "metadata": {},
   "outputs": [],
   "source": [
    "covid_fr_age.head()"
   ]
  },
  {
   "cell_type": "code",
   "execution_count": null,
   "metadata": {},
   "outputs": [],
   "source": [
    "covid_fr_age_metadata.head(7)"
   ]
  },
  {
   "cell_type": "code",
   "execution_count": null,
   "metadata": {},
   "outputs": [],
   "source": [
    "covid_fr_sexe_metadata"
   ]
  },
  {
   "cell_type": "code",
   "execution_count": null,
   "metadata": {},
   "outputs": [],
   "source": [
    "covid_fr_hosp.head()"
   ]
  },
  {
   "cell_type": "code",
   "execution_count": null,
   "metadata": {},
   "outputs": [],
   "source": [
    "covid_fr_hosp_metadata.head(6)"
   ]
  },
  {
   "cell_type": "markdown",
   "metadata": {},
   "source": [
    "### A) \n",
    "\n",
    "ok with general dataset"
   ]
  },
  {
   "cell_type": "markdown",
   "metadata": {},
   "source": [
    "### B) Clean data for age by date"
   ]
  },
  {
   "cell_type": "code",
   "execution_count": null,
   "metadata": {},
   "outputs": [],
   "source": [
    "covid_fr_age_regions = covid_fr_age.copy()\n",
    "covid_fr_age = covid_fr_age.rename({'cl_age90':'age', 'jour':'date', 'hosp':'hospitalisations', 'rea':'reanimations', 'dc':'deaths'}, axis=1).drop(['rad', 'reg'], axis=1)"
   ]
  },
  {
   "cell_type": "code",
   "execution_count": null,
   "metadata": {},
   "outputs": [],
   "source": [
    "covid_fr_age = covid_fr_age.groupby(['age', 'date']).sum().reset_index()"
   ]
  },
  {
   "cell_type": "code",
   "execution_count": null,
   "metadata": {
    "scrolled": true
   },
   "outputs": [],
   "source": [
    "covid_fr_age.head()"
   ]
  },
  {
   "cell_type": "markdown",
   "metadata": {},
   "source": [
    "### C) Clean data for sexe by date"
   ]
  },
  {
   "cell_type": "code",
   "execution_count": null,
   "metadata": {},
   "outputs": [],
   "source": [
    "covid_fr_sexe_regions = covid_fr.copy()\n",
    "covid_fr_sexe = covid_fr.rename({'jour':'date', 'hosp':'hospitalisations', 'rea':'reanimations', 'dc':'deaths'}, axis=1).drop(['dep', 'rad'], axis=1)"
   ]
  },
  {
   "cell_type": "code",
   "execution_count": null,
   "metadata": {},
   "outputs": [],
   "source": [
    "covid_fr_sexe['sexe'] = covid_fr_sexe['sexe'].map({0:'total', 1:'m', 2:'f'})"
   ]
  },
  {
   "cell_type": "code",
   "execution_count": null,
   "metadata": {},
   "outputs": [],
   "source": [
    "covid_fr_sexe = covid_fr_sexe.groupby(['sexe', 'date']).sum().reset_index()"
   ]
  },
  {
   "cell_type": "code",
   "execution_count": null,
   "metadata": {},
   "outputs": [],
   "source": [
    "covid_fr_sexe.head()"
   ]
  },
  {
   "cell_type": "markdown",
   "metadata": {},
   "source": [
    "## 2 Germany"
   ]
  },
  {
   "cell_type": "code",
   "execution_count": null,
   "metadata": {},
   "outputs": [],
   "source": [
    "PATH_COVID_GER = os.path.expanduser('~/Documents/GitHub/com-480-project-pouletpanier/data/detailed_data/RKI_COVID19.csv')"
   ]
  },
  {
   "cell_type": "code",
   "execution_count": null,
   "metadata": {},
   "outputs": [],
   "source": [
    "covid_ger = pd.read_csv(PATH_COVID_GER)"
   ]
  },
  {
   "cell_type": "code",
   "execution_count": null,
   "metadata": {},
   "outputs": [],
   "source": [
    "covid_ger = covid_ger.rename({'Altersgruppe':'Age', 'Geschlecht':'Sexe', 'AnzahlFall':'Cases', 'AnzahlTodesfall':'Deaths', 'Meldedatum':'Date', 'NeuerFall':'New Cases', 'NeuerTodesfall':'New Deaths', 'NeuGenesen':'New Recovers', 'AnzahlGenesen':'Recovers'}, axis=1)"
   ]
  },
  {
   "cell_type": "code",
   "execution_count": null,
   "metadata": {},
   "outputs": [],
   "source": [
    "covid_ger.head()"
   ]
  },
  {
   "cell_type": "markdown",
   "metadata": {},
   "source": [
    "### a) Clean data for general informations by date"
   ]
  },
  {
   "cell_type": "code",
   "execution_count": null,
   "metadata": {},
   "outputs": [],
   "source": [
    "covid_ger_general = covid_ger[['Bundesland', 'Landkreis', 'Cases', 'Deaths', 'Date', 'Recovers']]"
   ]
  },
  {
   "cell_type": "code",
   "execution_count": null,
   "metadata": {},
   "outputs": [],
   "source": [
    "covid_ger_general_by_regions = covid_ger_general.groupby(['Bundesland', 'Landkreis', 'Date']).sum().reset_index()"
   ]
  },
  {
   "cell_type": "code",
   "execution_count": null,
   "metadata": {},
   "outputs": [],
   "source": [
    "covid_ger_general_by_regions.head()"
   ]
  },
  {
   "cell_type": "code",
   "execution_count": null,
   "metadata": {},
   "outputs": [],
   "source": [
    "covid_ger_general_by_date = covid_ger_general_by_regions.drop(['Bundesland', 'Landkreis'], axis=1)\\\n",
    "                                    .groupby('Date')\\\n",
    "                                    .sum()\\\n",
    "                                    .reset_index()"
   ]
  },
  {
   "cell_type": "code",
   "execution_count": null,
   "metadata": {},
   "outputs": [],
   "source": [
    "covid_ger_general_by_date.head()"
   ]
  },
  {
   "cell_type": "markdown",
   "metadata": {},
   "source": [
    "### b) Clean data for age by date"
   ]
  },
  {
   "cell_type": "code",
   "execution_count": null,
   "metadata": {},
   "outputs": [],
   "source": [
    "covid_ger_general_age = covid_ger[['Bundesland', 'Landkreis', 'Cases', 'Deaths', 'Date', 'Recovers', 'Age']]"
   ]
  },
  {
   "cell_type": "code",
   "execution_count": null,
   "metadata": {},
   "outputs": [],
   "source": [
    "covid_ger_general_age_by_region = covid_ger_general_age.groupby(['Bundesland', 'Landkreis', 'Date', 'Age'])\\\n",
    "                                        .sum()\\\n",
    "                                        .reset_index()"
   ]
  },
  {
   "cell_type": "code",
   "execution_count": null,
   "metadata": {},
   "outputs": [],
   "source": [
    "covid_ger_general_age_by_region.head()"
   ]
  },
  {
   "cell_type": "code",
   "execution_count": null,
   "metadata": {},
   "outputs": [],
   "source": [
    "covid_ger_general_age_by_region_by_date = covid_ger_general_age.drop(['Bundesland', 'Landkreis'], axis=1)\\\n",
    "                                                .groupby(['Date', 'Age'])\\\n",
    "                                                .sum()\\\n",
    "                                                .reset_index()"
   ]
  },
  {
   "cell_type": "code",
   "execution_count": null,
   "metadata": {},
   "outputs": [],
   "source": [
    "covid_ger_general_age_by_region_by_date.head()"
   ]
  },
  {
   "cell_type": "markdown",
   "metadata": {},
   "source": [
    "### c) Clean data for sexe by date"
   ]
  },
  {
   "cell_type": "code",
   "execution_count": null,
   "metadata": {},
   "outputs": [],
   "source": [
    "covid_ger_general_sexe = covid_ger[['Bundesland', 'Landkreis', 'Cases', 'Deaths', 'Date', 'Recovers', 'Sexe']]"
   ]
  },
  {
   "cell_type": "code",
   "execution_count": null,
   "metadata": {},
   "outputs": [],
   "source": [
    "covid_ger_general_sexe_by_region = covid_ger_general_sexe.groupby(['Bundesland', 'Landkreis', 'Date', 'Sexe'])\\\n",
    "                                        .sum()\\\n",
    "                                        .reset_index()"
   ]
  },
  {
   "cell_type": "code",
   "execution_count": null,
   "metadata": {},
   "outputs": [],
   "source": [
    "covid_ger_general_sexe_by_region.head()"
   ]
  },
  {
   "cell_type": "code",
   "execution_count": null,
   "metadata": {},
   "outputs": [],
   "source": [
    "covid_ger_general_sexe_by_region_by_date = covid_ger_general_sexe.drop(['Bundesland', 'Landkreis'], axis=1)\\\n",
    "                                                .groupby(['Date', 'Sexe'])\\\n",
    "                                                .sum()\\\n",
    "                                                .reset_index()"
   ]
  },
  {
   "cell_type": "code",
   "execution_count": null,
   "metadata": {},
   "outputs": [],
   "source": [
    "covid_ger_general_sexe_by_region_by_date.head()"
   ]
  },
  {
   "cell_type": "markdown",
   "metadata": {},
   "source": [
    "### e) Compute fatality rate by date"
   ]
  },
  {
   "cell_type": "code",
   "execution_count": null,
   "metadata": {},
   "outputs": [],
   "source": [
    "def compute_fatality_rate(df):\n",
    "    df['fatality_rate'] = df['Deaths'] / df['Cases']\n",
    "    return df"
   ]
  },
  {
   "cell_type": "code",
   "execution_count": null,
   "metadata": {},
   "outputs": [],
   "source": [
    "covid_ger_fatality_rate_by_region = covid_ger[['Bundesland', 'Landkreis', 'Cases', 'Deaths', 'Date']]\\\n",
    "                                        .groupby(['Bundesland', 'Landkreis', 'Date'])\\\n",
    "                                        .sum()\\\n",
    "                                        .reset_index()"
   ]
  },
  {
   "cell_type": "code",
   "execution_count": null,
   "metadata": {},
   "outputs": [],
   "source": [
    "covid_ger_fatality_rate_by_date = covid_ger[['Cases', 'Deaths', 'Date']]\\\n",
    "                                        .groupby('Date')\\\n",
    "                                        .sum()\\\n",
    "                                        .reset_index()"
   ]
  },
  {
   "cell_type": "code",
   "execution_count": null,
   "metadata": {},
   "outputs": [],
   "source": [
    "compute_fatality_rate(covid_ger_fatality_rate_by_region).head()"
   ]
  },
  {
   "cell_type": "code",
   "execution_count": null,
   "metadata": {},
   "outputs": [],
   "source": [
    "compute_fatality_rate(covid_ger_fatality_rate_by_date).head()"
   ]
  },
  {
   "cell_type": "markdown",
   "metadata": {},
   "source": [
    "#### Comments\n",
    "\n",
    "After doing e), we should only run the function compute_fatality_rate on the df computed in b) and c)."
   ]
  },
  {
   "cell_type": "markdown",
   "metadata": {},
   "source": [
    "## 3 Belgium"
   ]
  },
  {
   "cell_type": "code",
   "execution_count": null,
   "metadata": {},
   "outputs": [],
   "source": [
    "PATH_COVID_BE = os.path.expanduser('~/Documents/GitHub/com-480-project-pouletpanier/data/detailed_data/COVID19BE.xlsx')\n",
    "PATH_COVID_BE_HOSP = os.path.expanduser('~/Documents/GitHub/com-480-project-pouletpanier/data/detailed_data/COVID19BE_HOSP.csv')\n",
    "PATH_COVID_BE_DEATHS = os.path.expanduser('~/Documents/GitHub/com-480-project-pouletpanier/data/detailed_data/COVID19BE_MORT.csv')\n",
    "PATH_COVID_BE_TESTS = os.path.expanduser('~/Documents/GitHub/com-480-project-pouletpanier/data/detailed_data/COVID19BE_tests.csv')\n"
   ]
  },
  {
   "cell_type": "code",
   "execution_count": null,
   "metadata": {},
   "outputs": [],
   "source": [
    "covid_be = pd.read_excel(PATH_COVID_BE)\n",
    "covid_be_hops = pd.read_csv(PATH_COVID_BE_HOSP, encoding = \"ISO-8859-1\")\n",
    "covid_be_deaths = pd.read_csv(PATH_COVID_BE_DEATHS)\n",
    "covid_be_tests = pd.read_csv(PATH_COVID_BE_TESTS)"
   ]
  },
  {
   "cell_type": "code",
   "execution_count": null,
   "metadata": {},
   "outputs": [],
   "source": [
    "covid_be.head()"
   ]
  },
  {
   "cell_type": "code",
   "execution_count": null,
   "metadata": {},
   "outputs": [],
   "source": [
    "covid_be_hops.head()"
   ]
  },
  {
   "cell_type": "code",
   "execution_count": null,
   "metadata": {},
   "outputs": [],
   "source": [
    "covid_be_deaths.head()"
   ]
  },
  {
   "cell_type": "code",
   "execution_count": null,
   "metadata": {},
   "outputs": [],
   "source": [
    "covid_be_tests.head()"
   ]
  },
  {
   "cell_type": "markdown",
   "metadata": {},
   "source": [
    "### b) Clean data for age by date"
   ]
  },
  {
   "cell_type": "code",
   "execution_count": null,
   "metadata": {},
   "outputs": [],
   "source": [
    "covid_be['AGEGROUP'].unique()"
   ]
  },
  {
   "cell_type": "code",
   "execution_count": null,
   "metadata": {},
   "outputs": [],
   "source": [
    "covid_be_deaths['AGEGROUP'].unique()"
   ]
  },
  {
   "cell_type": "code",
   "execution_count": null,
   "metadata": {},
   "outputs": [],
   "source": [
    "covid_be_cases_age_by_region = covid_be.drop('SEX', axis=1)\\\n",
    "                                    .groupby(['DATE', 'PROVINCE', 'REGION', 'AGEGROUP'])\\\n",
    "                                    .sum()\\\n",
    "                                    .reset_index()"
   ]
  },
  {
   "cell_type": "code",
   "execution_count": null,
   "metadata": {},
   "outputs": [],
   "source": [
    "covid_be_cases_age_by_region.head()"
   ]
  },
  {
   "cell_type": "code",
   "execution_count": null,
   "metadata": {},
   "outputs": [],
   "source": [
    "covid_be_cases_age_by_date = covid_be.drop(['SEX', 'PROVINCE', 'REGION'], axis=1)\\\n",
    "                                    .groupby(['DATE', 'AGEGROUP'])\\\n",
    "                                    .sum()\\\n",
    "                                    .reset_index()"
   ]
  },
  {
   "cell_type": "code",
   "execution_count": null,
   "metadata": {},
   "outputs": [],
   "source": [
    "covid_be_cases_age_by_date.head()"
   ]
  },
  {
   "cell_type": "code",
   "execution_count": null,
   "metadata": {},
   "outputs": [],
   "source": [
    "covid_be_deaths_age_by_region = covid_be_deaths.drop('SEX', axis=1)\\\n",
    "                                    .groupby(['DATE', 'REGION', 'AGEGROUP'])\\\n",
    "                                    .sum()\\\n",
    "                                    .reset_index()"
   ]
  },
  {
   "cell_type": "code",
   "execution_count": null,
   "metadata": {},
   "outputs": [],
   "source": [
    "covid_be_deaths_age_by_region.head()"
   ]
  },
  {
   "cell_type": "code",
   "execution_count": null,
   "metadata": {},
   "outputs": [],
   "source": [
    "covid_be_deaths_age_by_date = covid_be_deaths.drop(['SEX', 'REGION'], axis=1)\\\n",
    "                                    .groupby(['DATE', 'AGEGROUP'])\\\n",
    "                                    .sum()\\\n",
    "                                    .reset_index()"
   ]
  },
  {
   "cell_type": "code",
   "execution_count": null,
   "metadata": {},
   "outputs": [],
   "source": [
    "covid_be_deaths_age_by_date.head()"
   ]
  },
  {
   "cell_type": "markdown",
   "metadata": {},
   "source": [
    "### c) Clean data for sexe by date"
   ]
  },
  {
   "cell_type": "code",
   "execution_count": null,
   "metadata": {},
   "outputs": [],
   "source": [
    "covid_be_cases_sexe_by_region = covid_be.drop('AGEGROUP', axis=1)\\\n",
    "                                    .groupby(['DATE', 'PROVINCE', 'REGION', 'SEX'])\\\n",
    "                                    .sum()\\\n",
    "                                    .reset_index()"
   ]
  },
  {
   "cell_type": "code",
   "execution_count": null,
   "metadata": {},
   "outputs": [],
   "source": [
    "covid_be_cases_sexe_by_region.head()"
   ]
  },
  {
   "cell_type": "code",
   "execution_count": null,
   "metadata": {},
   "outputs": [],
   "source": [
    "covid_be_cases_sexe_by_date = covid_be.drop(['PROVINCE', 'AGEGROUP', 'REGION'], axis=1)\\\n",
    "                                .groupby(['DATE', 'SEX']).sum().reset_index()\\\n",
    "                                .merge(covid_be_deaths.drop(['AGEGROUP', 'REGION'], axis=1).groupby(['DATE', 'SEX']).sum().reset_index(),\n",
    "                                      left_on=['SEX', 'DATE'],\n",
    "                                      right_on=['SEX', 'DATE'])"
   ]
  },
  {
   "cell_type": "code",
   "execution_count": null,
   "metadata": {},
   "outputs": [],
   "source": [
    "covid_be_cases_sexe_by_date['fatality_rate'] = covid_be_cases_sexe_by_date['DEATHS'] / covid_be_cases_sexe_by_date['CASES']"
   ]
  },
  {
   "cell_type": "code",
   "execution_count": null,
   "metadata": {},
   "outputs": [],
   "source": [
    "covid_be_cases_sexe_by_date.head()"
   ]
  },
  {
   "cell_type": "markdown",
   "metadata": {},
   "source": [
    "## 4 New York"
   ]
  },
  {
   "cell_type": "code",
   "execution_count": null,
   "metadata": {},
   "outputs": [],
   "source": [
    "PATH_COVID_NY = os.path.expanduser('/Users/olivier/Documents/GitHub/com-480-project-pouletpanier/data/detailed_data/newyork/case-hosp-death.csv')\n",
    "\n",
    "PATH_COVID_NY_AGE = os.path.expanduser('/Users/olivier/Documents/GitHub/com-480-project-pouletpanier/data/detailed_data/newyork/by-age.csv')\n",
    "PATH_COVID_NY_SEXE = os.path.expanduser('/Users/olivier/Documents/GitHub/com-480-project-pouletpanier/data/detailed_data/newyork/by-sex.csv')\n",
    "\n",
    "PATH_COVID_NY_TEST = os.path.expanduser('/Users/olivier/Documents/GitHub/com-480-project-pouletpanier/data/detailed_data/newyork/tests-by-zcta.csv')"
   ]
  },
  {
   "cell_type": "code",
   "execution_count": null,
   "metadata": {},
   "outputs": [],
   "source": [
    "covid_ny = pd.read_csv(PATH_COVID_NY)\n",
    "\n",
    "covid_ny_age = pd.read_csv(PATH_COVID_NY_AGE)\n",
    "covid_ny_sexe = pd.read_csv(PATH_COVID_NY_SEXE)\n",
    "\n",
    "covid_ny_test = pd.read_csv(PATH_COVID_NY_TEST)"
   ]
  },
  {
   "cell_type": "code",
   "execution_count": null,
   "metadata": {},
   "outputs": [],
   "source": [
    "covid_ny.head()"
   ]
  },
  {
   "cell_type": "code",
   "execution_count": null,
   "metadata": {},
   "outputs": [],
   "source": [
    "covid_ny_age"
   ]
  },
  {
   "cell_type": "code",
   "execution_count": null,
   "metadata": {},
   "outputs": [],
   "source": [
    "covid_ny_sexe"
   ]
  },
  {
   "cell_type": "code",
   "execution_count": null,
   "metadata": {},
   "outputs": [],
   "source": [
    "covid_ny_test.head()"
   ]
  },
  {
   "cell_type": "markdown",
   "metadata": {},
   "source": [
    "## 5 California"
   ]
  },
  {
   "cell_type": "code",
   "execution_count": null,
   "metadata": {},
   "outputs": [],
   "source": [
    "PATH_COVID_CLFN = os.path.expanduser('/Users/olivier/Documents/GitHub/com-480-project-pouletpanier/data/detailed_data/california-coronavirus-data/cdph-state-totals.csv')"
   ]
  },
  {
   "cell_type": "code",
   "execution_count": null,
   "metadata": {},
   "outputs": [],
   "source": [
    "covid_clfn = pd.read_csv(PATH_COVID_CLFN)"
   ]
  },
  {
   "cell_type": "code",
   "execution_count": null,
   "metadata": {},
   "outputs": [],
   "source": [
    "covid_clfn.head()"
   ]
  },
  {
   "cell_type": "code",
   "execution_count": null,
   "metadata": {},
   "outputs": [],
   "source": [
    "covid_clfn.columns"
   ]
  },
  {
   "cell_type": "markdown",
   "metadata": {},
   "source": [
    "### b) Clean data for age by date"
   ]
  },
  {
   "cell_type": "code",
   "execution_count": null,
   "metadata": {},
   "outputs": [],
   "source": [
    "covid_clfn_age = covid_clfn[['date', 'confirmed_cases', 'deaths', 'age_0_to_17', 'age_18_to_49', 'age_50_to_64',\n",
    "       'age_65_and_up', 'age_unknown']]"
   ]
  },
  {
   "cell_type": "code",
   "execution_count": null,
   "metadata": {},
   "outputs": [],
   "source": [
    "covid_clfn_age.head()"
   ]
  },
  {
   "cell_type": "markdown",
   "metadata": {},
   "source": [
    "### c) Clean data for sexe by date"
   ]
  },
  {
   "cell_type": "code",
   "execution_count": null,
   "metadata": {},
   "outputs": [],
   "source": [
    "covid_clfn_sexe = covid_clfn[['date', 'confirmed_cases', 'deaths', 'gender_male',\n",
    "       'gender_female', 'gender_unknown']]"
   ]
  },
  {
   "cell_type": "code",
   "execution_count": null,
   "metadata": {},
   "outputs": [],
   "source": [
    "covid_clfn_sexe.head()"
   ]
  },
  {
   "cell_type": "markdown",
   "metadata": {},
   "source": [
    "### d) Clean data for hospitalisations by date\n"
   ]
  },
  {
   "cell_type": "code",
   "execution_count": null,
   "metadata": {},
   "outputs": [],
   "source": [
    "covid_clfn_hosp = covid_clfn[['date','confirmed_cases', 'deaths', 'confirmed_hospitalizations', 'confirmed_icu',\n",
    "       'suspected_hospitalizations', 'suspected_icu',\n",
    "       'healthcare_worker_infections', 'healthcare_worker_deaths']]"
   ]
  },
  {
   "cell_type": "code",
   "execution_count": null,
   "metadata": {},
   "outputs": [],
   "source": [
    "covid_clfn_hosp.head()"
   ]
  },
  {
   "cell_type": "code",
   "execution_count": null,
   "metadata": {},
   "outputs": [],
   "source": []
  }
 ],
 "metadata": {
  "kernelspec": {
   "display_name": "Python 3",
   "language": "python",
   "name": "python3"
  },
  "language_info": {
   "codemirror_mode": {
    "name": "ipython",
    "version": 3
   },
   "file_extension": ".py",
   "mimetype": "text/x-python",
   "name": "python",
   "nbconvert_exporter": "python",
   "pygments_lexer": "ipython3",
   "version": "3.7.6"
  }
 },
 "nbformat": 4,
 "nbformat_minor": 2
}
